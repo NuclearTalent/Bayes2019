{
 "cells": [
  {
   "cell_type": "markdown",
   "metadata": {
    "slideshow": {
     "slide_type": "slide"
    }
   },
   "source": [
    "# TALENT Course 11\n",
    "## Learning from Data: Bayesian Methods and Machine Learning\n",
    "### York, UK, June 10-28, 2019 "
   ]
  },
  {
   "cell_type": "markdown",
   "metadata": {},
   "source": [
    "## Exercise: Write your own Metropolis-Hastings MCMC sampler"
   ]
  },
  {
   "cell_type": "markdown",
   "metadata": {},
   "source": [
    "This exercise is intended for those that want to get familiar with object-oriented programming in python. The purpose of the exercise is to develop your own Metropolis, or Metropolis-Hastings, sampler by employing an abstract, but general, MCMC super class. Based on this MCMC class it is easy to define a subclass that contains the actual sample algorithm.\n",
    "\n",
    "The general framework is already included via the python package in the 'sampler' sub-directory."
   ]
  },
  {
   "cell_type": "markdown",
   "metadata": {
    "slideshow": {
     "slide_type": "fragment"
    }
   },
   "source": [
    "### Tasks\n",
    "* The sampler should be implemented by modifying the 'mhsampler.py' file.\n",
    "* The above file already contains the framework and employs the abstract MCMC class defined in mcmc.py. This abstract method implements various helper functions and makes sure that the sampler is compatible with the 'emcee' package.\n",
    "* More specifically, the function 'sample' should be written such that:\n",
    "    * the chain object is resized with the number of requested iterations: \n",
    "    ```python\n",
    "    self.chain_object.extend(...)\n",
    "    ```\n",
    "    * the Metropolis, or Metropolis-Hastings, acceptance probability is computed\n",
    "    * a proposed state is either accepted or rejected, depending on which it should call either\n",
    "    ```python\n",
    "    self.chain_object.accept(...)\n",
    "    ```\n",
    "    with the new state, or\n",
    "    ```python\n",
    "    self.chain_object.reject\n",
    "    ```\n",
    "    to make another copy of the current position.\n",
    "    * for each iteration it should generate 'pos', 'lnprob', 'rstate' (these variables are described in the docstring). Hint:\n",
    "    ```python\n",
    "    yield pos, lnprob, np.random.get_state()\n",
    "    ```\n",
    "\n",
    "* Test your sampler, e.g. using the code below to sample a two-dimensional Gaussian distribution."
   ]
  },
  {
   "cell_type": "markdown",
   "metadata": {
    "slideshow": {
     "slide_type": "fragment"
    }
   },
   "source": [
    "### Import of modules"
   ]
  },
  {
   "cell_type": "code",
   "execution_count": null,
   "metadata": {
    "slideshow": {
     "slide_type": "-"
    }
   },
   "outputs": [],
   "source": [
    "import numpy as np\n",
    "import matplotlib.pyplot as plt\n",
    "%matplotlib inline\n",
    "\n",
    "# Not really needed, but nicer plots\n",
    "import seaborn as sns\n",
    "sns.set()\n",
    "sns.set_context(\"talk\")"
   ]
  },
  {
   "cell_type": "code",
   "execution_count": null,
   "metadata": {},
   "outputs": [],
   "source": [
    "# Modules needed for this exercise\n",
    "import emcee\n",
    "import corner"
   ]
  },
  {
   "cell_type": "code",
   "execution_count": null,
   "metadata": {},
   "outputs": [],
   "source": [
    "# Import your own sampler\n",
    "from sampler.mhsampler import MHSAMPLER"
   ]
  },
  {
   "cell_type": "markdown",
   "metadata": {
    "slideshow": {
     "slide_type": "slide"
    }
   },
   "source": [
    "# Sampling a multivariate Gaussian"
   ]
  },
  {
   "cell_type": "markdown",
   "metadata": {},
   "source": [
    "If this all worked correctly, the array *samples* should contain a series of draws from the posterior. Let's plot them using a so called corner plot (to be discussed in much more detail during the course)."
   ]
  },
  {
   "cell_type": "code",
   "execution_count": null,
   "metadata": {},
   "outputs": [],
   "source": [
    "# Number of dimensions\n",
    "ndim = 2\n",
    "\n",
    "# Multivariate, correlated gaussian (random position and correlation)\n",
    "means = 1. - 2. * np.random.rand(ndim)\n",
    "cov = 0.5 - np.random.rand(ndim ** 2).reshape((ndim, ndim))\n",
    "cov = np.triu(cov)\n",
    "cov += cov.T - np.diag(cov.diagonal())\n",
    "cov = np.dot(cov,cov)\n",
    "inv_cov = np.linalg.inv(cov)\n",
    "\n",
    "# The array of mean positions and the inverted covariance matrix should be input as positional\n",
    "# arguments to the log-posterior function\n",
    "lnprobfn_args=[means,inv_cov]"
   ]
  },
  {
   "cell_type": "code",
   "execution_count": null,
   "metadata": {},
   "outputs": [],
   "source": [
    "def lnprob(q,mu,icov):\n",
    "    \"\"\"\n",
    "    The function ``lnprob`` returns the log-probability function at position ``q`` of a multivariate \n",
    "    Gaussian (mean array ``mu`` and inverse covariance matrix ``icov``).\n",
    "    \"\"\"\n",
    "    diff = q-mu\n",
    "    return -np.dot(diff,np.dot(icov,diff))/2.0"
   ]
  },
  {
   "cell_type": "code",
   "execution_count": null,
   "metadata": {},
   "outputs": [],
   "source": [
    "# We will test three different samplers:\n",
    "# 1. The emcee builtin MH-sampler\n",
    "# 2. The emcee affine-invariant ensample sampler\n",
    "# 3. Your own MH sampler\n",
    "def init_sampler(MCMC_sampler,ndim,nsamples,lnprobfn,lnprobfn_args,nwalkers=1):\n",
    "    \"\"\"\n",
    "    Initialize a MCMC sampler. Returns a sampler object, an array of starting positions, number of steps and walkers.\n",
    "    \"\"\"\n",
    "    # MH-Sampler\n",
    "    stepsize = 0.5\n",
    "    cov = stepsize * np.eye(ndim)\n",
    "    p0 = np.random.rand(ndim)\n",
    "    nsteps = nsamples\n",
    "    if MCMC_sampler=='emcee MHSampler':\n",
    "        sampler = emcee.MHSampler(cov, ndim, lnprobfn, args=lnprobfn_args)\n",
    "        nwalkers = 1\n",
    "    elif MCMC_sampler=='my MHSampler':\n",
    "        sampler = MHSAMPLER(cov, ndim, lnprobfn, args=lnprobfn_args)\n",
    "        nwalkers = 1\n",
    "    elif MCMC_sampler=='EMCEE':\n",
    "        # EEMCEE-sampler\n",
    "        p0 = [np.random.rand(ndim) for i in range(nwalkers)]\n",
    "        print('initializing EMCEE sampler with {0} walkers'.format(nwalkers))\n",
    "        nsteps = int(nsamples/nwalkers)\n",
    "        sampler = emcee.EnsembleSampler(nwalkers, ndim, lnprobfn, args=lnprobfn_args)\n",
    "    return sampler, p0, nsteps, nwalkers"
   ]
  },
  {
   "cell_type": "code",
   "execution_count": null,
   "metadata": {},
   "outputs": [],
   "source": [
    "# Sampling setup\n",
    "nburnin = 1000\n",
    "nsamples = 100000\n",
    "\n",
    "# nwalkers definition will only be used for the emcee ensamble sampler\n",
    "nwalkers = 10 # nsteps = nsamples / nwalkers"
   ]
  },
  {
   "cell_type": "code",
   "execution_count": null,
   "metadata": {},
   "outputs": [],
   "source": [
    "for MCMC_sampler in ['emcee MHSampler', 'my MHSampler', 'EMCEE']:\n",
    "    print(\"MCMC sampler: {0}\".format(MCMC_sampler))\n",
    "    _sampler, _p0, _nsteps, _nwalkers = init_sampler(MCMC_sampler, ndim, nsamples, lnprob, \\\n",
    "                                                     lnprobfn_args, nwalkers=nwalkers)\n",
    "    \n",
    "    # Sample the posterior distribution\n",
    "\n",
    "    # Burn-in\n",
    "    print('Performing {0} burnin iterations.'.format(nburnin))\n",
    "    pos, prob, state = _sampler.run_mcmc(_p0, nburnin)\n",
    "    _sampler.reset()\n",
    "\n",
    "    # Perform iterations, starting at the final position from the burnin.\n",
    "    print('{1} walkers performing {0} iterations each.'.format(_nsteps, _nwalkers))\n",
    "    %time _sampler.run_mcmc(pos, _nsteps)\n",
    "    print(\"done\")\n",
    "\n",
    "    print(\"Mean acceptance fraction: {0:.3f}\"\n",
    "                    .format(np.mean(_sampler.acceptance_fraction)))\n",
    "\n",
    "    samples = _sampler.flatchain\n",
    "    \n",
    "    # make a corner plot with the posterior distribution\n",
    "    fig = corner.corner(samples, truths=means,quantiles=[0.16, 0.5, 0.84],\n",
    "                       show_titles=True, title_kwargs={\"fontsize\": 12})\n",
    "    plt.show()\n"
   ]
  },
  {
   "cell_type": "code",
   "execution_count": null,
   "metadata": {},
   "outputs": [],
   "source": []
  }
 ],
 "metadata": {
  "celltoolbar": "Slideshow",
  "kernelspec": {
   "display_name": "Python 3",
   "language": "python",
   "name": "python3"
  },
  "language_info": {
   "codemirror_mode": {
    "name": "ipython",
    "version": 3
   },
   "file_extension": ".py",
   "mimetype": "text/x-python",
   "name": "python",
   "nbconvert_exporter": "python",
   "pygments_lexer": "ipython3",
   "version": "3.7.3"
  }
 },
 "nbformat": 4,
 "nbformat_minor": 2
}
