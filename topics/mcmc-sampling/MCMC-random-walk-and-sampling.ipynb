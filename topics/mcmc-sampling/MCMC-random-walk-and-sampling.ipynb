{
 "cells": [
  {
   "cell_type": "markdown",
   "metadata": {
    "slideshow": {
     "slide_type": "slide"
    }
   },
   "source": [
    "# TALENT Course 11\n",
    "## Learning from Data: Bayesian Methods and Machine Learning\n",
    "### York, UK, June 10-28, 2019 "
   ]
  },
  {
   "cell_type": "markdown",
   "metadata": {},
   "source": [
    "## Exercise: Random walk"
   ]
  },
  {
   "cell_type": "markdown",
   "metadata": {
    "slideshow": {
     "slide_type": "fragment"
    }
   },
   "source": [
    "The second part of this exercise is inspired by the post [\"MCMC sampling for dummies\"](https://twiecki.io/blog/2015/11/10/mcmc-sampling/) in the excellent blog [\"While my MCMC gently samples\"](https://twiecki.io/) by Thomas Wiecki."
   ]
  },
  {
   "cell_type": "markdown",
   "metadata": {
    "slideshow": {
     "slide_type": "fragment"
    }
   },
   "source": [
    "### Import of modules"
   ]
  },
  {
   "cell_type": "code",
   "execution_count": null,
   "metadata": {
    "slideshow": {
     "slide_type": "-"
    }
   },
   "outputs": [],
   "source": [
    "import numpy as np\n",
    "import matplotlib.pyplot as plt\n",
    "%matplotlib inline\n",
    "\n",
    "# Not really needed, but nicer plots\n",
    "import seaborn as sns\n",
    "sns.set()\n",
    "sns.set_context(\"talk\")"
   ]
  },
  {
   "cell_type": "code",
   "execution_count": null,
   "metadata": {},
   "outputs": [],
   "source": [
    "# Modules needed for this exercise\n",
    "from scipy.stats import norm\n",
    "from scipy.stats import cauchy"
   ]
  },
  {
   "cell_type": "markdown",
   "metadata": {},
   "source": [
    "## Part 1: Random walk in [-5,5] region\n",
    "We will make a random walk in the bounded region [-5,5] according to the following algorithm:\n",
    "1. Start in some position\n",
    "2. Draw a random number from a normal distribution centered at the current position and a width that we set beforehand.\n",
    "3. Move to the proposed position unless it is outside of the region boundaries (in which case we stay at the current position, adding it again to the list of visited positions)"
   ]
  },
  {
   "cell_type": "code",
   "execution_count": null,
   "metadata": {},
   "outputs": [],
   "source": [
    "def sampler(start_pos, no_of_samples=4, proposal_width=.5):\n",
    "    samples=[]\n",
    "    current_position = start_pos\n",
    "    for i in range(no_of_samples):\n",
    "        # suggest new position\n",
    "        proposed_position = norm(current_position, proposal_width).rvs()\n",
    "\n",
    "        accept = (np.abs(proposed_position)<5)\n",
    "        \n",
    "        if accept:\n",
    "            # Update position\n",
    "            current_position = proposed_position\n",
    "        \n",
    "        samples.append(current_position)\n",
    "        \n",
    "    return np.array(samples)"
   ]
  },
  {
   "cell_type": "markdown",
   "metadata": {},
   "source": [
    "Collect a large number of samples according to the above procedure. Plot a histogram and the trace of the collected samples."
   ]
  },
  {
   "cell_type": "code",
   "execution_count": null,
   "metadata": {},
   "outputs": [],
   "source": [
    "# for reproducibility\n",
    "np.random.seed(13)\n",
    "samples = sampler(0.,no_of_samples=2000, proposal_width=2.)\n",
    "\n",
    "fig, (ax1, ax2) = plt.subplots(ncols=2, figsize=(10, 4))\n",
    "ax1.hist(samples, density=True, histtype='stepfilled', alpha=0.2, \n",
    "         range=(-10,10),bins=41)\n",
    "ax1.set(xlabel=r'$x$', ylabel='prob. dens.', title='samples histogram')\n",
    "ax2.plot(samples)\n",
    "ax2.set(xlabel='iteration', ylabel='mu', title='trace of samples');"
   ]
  },
  {
   "cell_type": "markdown",
   "metadata": {},
   "source": [
    "### Questions\n",
    "\n",
    "* What distribution does the probability density as represented by the histogram resemble?\n",
    "* You can try increasing or decreasing the number of samples.\n",
    "* Study the algorithm closely and find the line where the current position is added again to the list of samples if the proposed position is outside the hard-wall boundary. What happens if you change this so that the proposed step is just ignored and no position gets added to the list of samples for that iteration? \n",
    "* What happens if you try with another proposal distribution, e.g. a uniform one?\n",
    "* What happens if you decrease the width of the proposal distribution?"
   ]
  },
  {
   "cell_type": "markdown",
   "metadata": {},
   "source": [
    "When answering the last question you probably did find that the proposal changed quite drastically when using the same number of samples, but taking much shorter steps. This is a consequence of the collected samples being *correlated*. \n",
    "\n",
    "We can define the autocorrelation function $\\rho(h)$ from the list of samples $X$, where $X_t$ is sample $t$ and $X_{t+h}$ is a shifted version of $X_t$ with $h$ being called the *lag*\n",
    "$$\n",
    "\\rho(h) = \\frac{\\sum_\\mathrm{overlap} \\left[ (X_t - \\bar{X}) (X_{t+h} - \\bar{X})\\right]}\n",
    "{\\sqrt{ \\sum_\\mathrm{overlap} (X_t - \\bar{X})^2 } \\sqrt{ \\sum_\\mathrm{overlap} (X_{t+h} - \\bar{X})^2 }}\n",
    "$$\n",
    "The summation is carried out over the subset of samples that overlap."
   ]
  },
  {
   "cell_type": "code",
   "execution_count": null,
   "metadata": {},
   "outputs": [],
   "source": [
    "def autocorrelation(chain, max_lag=100):\n",
    "    dimension = len(chain)\n",
    "    acors = np.empty(max_lag+1)\n",
    "    if max_lag > len(chain)/5:\n",
    "        warnings.warn('max_lag is more than one fifth the chain length')\n",
    "    # Create a copy of the chain with average zero\n",
    "    chain1d = chain - np.average(chain)\n",
    "    for lag in range(max_lag+1):\n",
    "        unshifted = None\n",
    "        shifted = chain1d[lag:]\n",
    "        if 0 == lag:\n",
    "            unshifted = chain1d\n",
    "        else:\n",
    "            unshifted = chain1d[:-lag]\n",
    "        normalization = np.sqrt(np.dot(unshifted, unshifted))\n",
    "        normalization *= np.sqrt(np.dot(shifted, shifted))\n",
    "        acors[lag] = np.dot(unshifted, shifted) / normalization\n",
    "    return acors"
   ]
  },
  {
   "cell_type": "markdown",
   "metadata": {},
   "source": [
    "Study the behavior of the autocorrelation function (ACF) $\\rho(h)$ \n",
    "* First, take a minute to get a feeling for the definition of the ACF. Try to describe the operation that is performed in words.\n",
    "* What happens when the proposal width is large/small/intermediate?\n",
    "* What does it mean when the autocorrelation is large/small?\n",
    "* It is often observed that $\\rho(h)$ is roughly exponential so that we can define an autocorrelation time $\\tau$ according to\n",
    "$$\n",
    "\\rho(h) \\sim \\exp(-h/\\tau).\n",
    "$$\n",
    "Extract $\\tau$ for some different choices of the proposal width."
   ]
  },
  {
   "cell_type": "code",
   "execution_count": null,
   "metadata": {},
   "outputs": [],
   "source": [
    "acors = autocorrelation(samples,max_lag=200)\n",
    "fig, ax = plt.subplots()\n",
    "ax.plot(acors);\n",
    "ax.set(xlabel='lag', ylabel='autocorrelation', ylim=(-.1, 1));"
   ]
  },
  {
   "cell_type": "markdown",
   "metadata": {},
   "source": [
    "## Part 2: MCMC sampling of a Lorentzian pdf using the random walk Metropolis algorithm"
   ]
  },
  {
   "cell_type": "markdown",
   "metadata": {},
   "source": [
    "In the previous example we performed a random walk and accepted all steps unless they were outside a hard-wall boundary. This corresponds to a situation where all positions within that region is equally probable, and all positions outside have probability zero. \n",
    "\n",
    "* What pdf does that situation correspond to?\n",
    "\n",
    "Now, let us try another situation in which we have some function that tells us the (possibly unnormalized) probability of a given position. We will assume a known, specific form of this pdf, namely a Lorentzian (Cauchy) distribution, but it might just as well be some very complicated function that can only be evaluated numerically. All that is needed is some function that, for each position in the parameter space, returns a probability.\n",
    "\n",
    "Let us start by studying the pdf that we will be sampling from using a random walk (using the Metropolis algorithm outlined below). "
   ]
  },
  {
   "cell_type": "code",
   "execution_count": null,
   "metadata": {
    "scrolled": true
   },
   "outputs": [],
   "source": [
    "# Draw a number of random samples from the standard Cauchy\n",
    "r = cauchy.rvs(size=1000)\n",
    "plt.hist(r, density=True, histtype='stepfilled', alpha=0.2, \n",
    "         range=(-10,10),bins=21);"
   ]
  },
  {
   "cell_type": "markdown",
   "metadata": {},
   "source": [
    "### Questions:\n",
    "This histogram corresponds to a finite sample from the pdf of a standard Cauchy (Lorentzian)\n",
    "$$ \n",
    "p(x | \\alpha=0, \\beta=1) = \\frac{1}{\\pi(1+x^2)}, \n",
    "$$\n",
    "with mean $\\alpha=0$ and FWHM $2\\beta = 2$.\n",
    "\n",
    "- How does this pdf compare with a standard normal distribution $\\mathcal{N}(x;\\mu=0,\\sigma^2=1)$?\n",
    "- What is the function of the optional argument 'density=True' in the 'hist' plot function call in the cell above?\n",
    "- What happens if you remove the optional 'range' and 'bins' arguments from the 'hist' plot function call in the cell above?\n",
    "- Why? How would this look when plotting a histogram for random samples from a standard normal distribution? "
   ]
  },
  {
   "cell_type": "markdown",
   "metadata": {},
   "source": [
    "Let us turn the posterior into a callable function. We will deliberately remove the normalization to make the point that sampling can be made for an unnormalized pdf:"
   ]
  },
  {
   "cell_type": "code",
   "execution_count": null,
   "metadata": {},
   "outputs": [],
   "source": [
    "def posterior_function(x):\n",
    "    return 1 / (1+x**2)\n",
    "\n",
    "def normalized_posterior_function(x):\n",
    "    return 1 / (np.pi * (1+x**2))"
   ]
  },
  {
   "cell_type": "markdown",
   "metadata": {},
   "source": [
    "Now on to the sampling. At first, you define the starting parameter position (can be randomly chosen), let's fix it arbitrarily to:\n",
    "\n",
    "```python\n",
    "current_position = 1.\n",
    "```\n",
    "\n",
    "Then, you propose to move (jump) from that position somewhere else (that's the Markov part). You can be very dumb or very sophisticated about how you come up with that proposal. The Metropolis sampler is very dumb and just takes a sample from a proposal distribution (here we again choose a normal distribution) centered around your current position (i.e. `current_position`) with a certain standard deviation (`proposal_width`) that will determine how far you propose jumps (here we're using `scipy.stats.norm`):\n",
    "\n",
    "```python\n",
    "proposal_position = norm(current_position, proposal_width).rvs()\n",
    "```\n",
    "\n",
    "Next, you evaluate whether that's a good place to jump to or not. We quantify this by computing the probability of the proposed position in parameter space, i.e. evaluating the posterior pdf at the proposed position. Usually you would use log probabilities but we omit this here.\n",
    "\n",
    "```python\n",
    "# Nominator of Bayes' formula\n",
    "p_current = posterior(current_position)\n",
    "p_proposal = posterior(proposed_position)\n",
    "\n",
    "```\n",
    "\n",
    "Up until now, we essentially have a hill-climbing algorithm that would just propose movements into random directions and only accept a jump if the `proposed_position` has higher likelihood than `current_position`. Eventually we'll get to `x = 0` (or close to it) from where no more moves will be possible. However, we want to get a posterior pdf so we'll also have to sometimes accept moves into the other direction. The key trick is by dividing the two probabilities,\n",
    "\n",
    "```python\n",
    "p_accept = p_proposal / p_current\n",
    "```\n",
    "\n",
    "we get an acceptance probability. Note that the acceptance probability is obtained by dividing the posterior of proposed parameter setting by the posterior of the current parameter setting. This implies that the posterior pdf does not necessarily need to be normalized, the normalization factor will anyway be canceled out. \n",
    "\n",
    "You can see that if `p_proposal` is larger, that probability will be `> 1` and we'll definitely accept. However, if `p_current` is larger, say twice as large, there'll be a 50% chance of moving there which we will decide by drawing a random number:\n",
    "\n",
    "```python\n",
    "accept = np.random.rand() < p_accept\n",
    "\n",
    "if accept:\n",
    "    # Update position\n",
    "    current_position = proposed_position\n",
    "\n",
    "```\n",
    "\n",
    "This simple procedure gives us samples from the posterior."
   ]
  },
  {
   "cell_type": "code",
   "execution_count": null,
   "metadata": {},
   "outputs": [],
   "source": [
    "def sampler(posterior_func, no_of_samples=4, start_position=.5, \n",
    "            proposal_width=1., plot=False):\n",
    "    current_position = start_position\n",
    "    samples = [current_position]\n",
    "    for i in range(no_of_samples):\n",
    "        # suggest new position\n",
    "        proposed_position = norm(current_position, proposal_width).rvs()\n",
    "\n",
    "        # Compute posteriors of current and proposed position       \n",
    "        p_current = posterior_func(current_position)\n",
    "        p_proposal = posterior_func(proposed_position) \n",
    "        \n",
    "        # Acceptance probability\n",
    "        # Note that this part will be modified in the Metropolis-Hastings algorithm \n",
    "        # for which we also consider asymmetric proposal distributions\n",
    "        p_accept = p_proposal / p_current\n",
    "        \n",
    "        # Accept proposal?\n",
    "        accept = np.random.rand() < p_accept\n",
    "        \n",
    "        # Visualization\n",
    "        if plot:\n",
    "            assert no_of_samples < 11, \"Too many samples for visualization\"\n",
    "            plot_proposal(posterior_func, current_position, p_current, \n",
    "                          proposed_position, p_proposal, accept, samples, i)\n",
    "        \n",
    "        if accept:\n",
    "            # Update position\n",
    "            current_position = proposed_position\n",
    "        \n",
    "        samples.append(current_position)\n",
    "        \n",
    "    return np.array(samples)\n",
    "\n",
    "# Function to display\n",
    "def plot_proposal(posterior_func, current_position, p_current, \n",
    "                  proposed_position, p_proposal, accepted, trace, i):\n",
    "    from copy import copy\n",
    "    trace = copy(trace)\n",
    "    fig, (ax1, ax2, ax3) = plt.subplots(ncols=3, figsize=(12, 4))\n",
    "    fig.suptitle('Iteration %i' % (i + 1))\n",
    "    x = np.linspace(-5, 5, 5000)\n",
    "    color = 'g' if accepted else 'r'\n",
    "        \n",
    "    # Plot posterior\n",
    "    ax1.plot(x, posterior_func(x))\n",
    "    ax1.plot([current_position] * 2, [0, p_current], marker='o', color='b')\n",
    "    ax1.plot([proposed_position] * 2, [0, p_proposal], marker='o', color=color)\n",
    "    ax1.annotate(\"\", xy=(proposed_position, 0.2), xytext=(current_position, 0.2),\n",
    "                 arrowprops=dict(arrowstyle=\"->\", lw=2.))\n",
    "    ax1.set(ylabel='Probability Density', \\\n",
    "            title='current: posterior(mu=%.2f) = %.2f\\nproposal: posterior(mu=%.2f) = %.2f' \\\n",
    "            % (current_position, p_current, proposed_position, p_proposal))\n",
    "    \n",
    "    if accepted:\n",
    "        trace.append(proposed_position)\n",
    "    else:\n",
    "        trace.append(current_position)\n",
    "        \n",
    "    # Posterior histogram\n",
    "    ax2.plot(x, normalized_posterior_function(x)) # properly normalized\n",
    "    sns.distplot(trace, kde=False, norm_hist=True, ax=ax2)\n",
    "    ax2.axvline(current_position, color='b', linestyle='--', \n",
    "                label='current position')\n",
    "    ax2.axvline(proposed_position, color=color, linestyle='--', \n",
    "                label='proposed position')\n",
    "    ax2.annotate(\"\", xy=(proposed_position, 0.2), xytext=(current_position, 0.2),\n",
    "                 arrowprops=dict(arrowstyle=\"->\", lw=2.))\n",
    "\n",
    "    \n",
    "    ax3.plot(trace)\n",
    "    ax3.set(xlabel='iteration', ylabel='position', title='trace')\n",
    "    plt.tight_layout()"
   ]
  },
  {
   "cell_type": "markdown",
   "metadata": {},
   "source": [
    "To visualize the sampling, we'll create plots for some quantities that are computed. Each row below is a single iteration through our Metropolis sampler. \n",
    "\n",
    "The first column displays our unnormalized posterior distribution. This is for visualization only, normally we would not be able to plot a nice curve to show the posterior. Here, we plug in our $x$ proposals. The vertical lines represent our current position in blue and our proposed position in either red or green (rejected or accepted, respectively). \n",
    "\n",
    "The second column is our posterior distribution. Here we are displaying the normalized posterior as the blue curve compared to the normalized histogram of samples (green bars) and the move that was just proposed.\n",
    "\n",
    "The third column is our trace (i.e. the posterior samples of visited positions that we're generating). Note that we store a sample at each iteration, irrespective of whether the propsal was accepted or rejected. In the latter situation, we keep the previous position and the line just stays constant.\n",
    "\n",
    "Note that we always accept moves to relatively more likely $x$ values (in terms of their posterior density), but only sometimes to relatively less likely $x$ values, as can be seen already in the first iteration, and later in iterations 6, 7, and 8 (the iteration number can be found at the top center of each row)."
   ]
  },
  {
   "cell_type": "code",
   "execution_count": null,
   "metadata": {
    "scrolled": false
   },
   "outputs": [],
   "source": [
    "np.random.seed(123)\n",
    "samples = sampler(posterior_function, no_of_samples=8, start_position=.5, proposal_width=1., plot=True);"
   ]
  },
  {
   "cell_type": "markdown",
   "metadata": {},
   "source": [
    "Now the magic of MCMC is that you just have to do that for a long time, and the samples that are generated in this way come from the posterior distribution of your model. There is a rigorous mathematical proof that guarantees this, which we won't go into detail here.\n",
    "\n",
    "To get a sense of what this produces, lets draw a lot of samples and plot them."
   ]
  },
  {
   "cell_type": "code",
   "execution_count": 58,
   "metadata": {},
   "outputs": [],
   "source": [
    "samples = sampler(posterior_function, no_of_samples=15000, start_position=1.)"
   ]
  },
  {
   "cell_type": "code",
   "execution_count": null,
   "metadata": {},
   "outputs": [],
   "source": [
    "fig, (ax1, ax2) = plt.subplots(ncols=2, figsize=(10, 4))\n",
    "\n",
    "ax1.plot(samples)\n",
    "ax.set(xlabel='sample', ylabel='x');\n",
    "\n",
    "ax2.hist(samples[500:], density=True, histtype='stepfilled', alpha=0.2, \n",
    "         range=(-10,10), bins=21, label='samples')\n",
    "x = np.linspace(-10., 10., 200)\n",
    "ax2.plot(x, normalized_posterior_function(x), 'g', label='posterior')\n",
    "ax2.set(xlabel='position', ylabel='belief');\n",
    "ax2.legend();\n",
    "plt.tight_layout()"
   ]
  },
  {
   "cell_type": "markdown",
   "metadata": {},
   "source": [
    "The plot in the left panel is usually called the trace. To get an approximation of the posterior (the reason why we're doing all this), we simply take the histogram of this trace. That histogram is shown in the right panel which then represents our **belief** in the probability density for different `positions`. For comparison we also show (green line) the properly normalized posterior pdf, for which we had a known analytical form in this case."
   ]
  },
  {
   "cell_type": "markdown",
   "metadata": {},
   "source": [
    "### Questions / tasks\n",
    "* Add functionality to extract the acceptance rate (i.e. the fraction of proposed steps that are accepted).\n",
    "* Print the acceptance rate and plot the autocorrelation function / autocorrelation time when performing the following studies:\n",
    "* Based mainly on empirical studies, Roberts, Gelman, and Gilks (1997) recommend calibrating the acceptance rate to about 25% for a high-dimensional model, and to about 50% for models of one or two dimensions. How can you calibrate the acceptance rate of your MCMC sampler?\n",
    "* Try to sample from some other posterior pdf.\n",
    "* What happens when you change the proposal distribution: \n",
    "    * Using a different proposal distribution?\n",
    "    * What happens if you make it asymmetric around the 'current_position'?\n",
    "    * What happens if you stick to the normal distribution as a proposal distribution, but change its width?\n",
    "* How would you define that a MCMC algorithm works? What is the property that you are after?\n",
    "* The Metropolis algorithm works because it has three properties:\n",
    "    * It is _irreducible_\n",
    "    * It is _aperiodic_\n",
    "    * It is _positive recurrent_\n",
    "    \n",
    "  What do you think that these properties mean?\n"
   ]
  },
  {
   "cell_type": "markdown",
   "metadata": {},
   "source": [
    "### Optional task: log probabilities\n",
    "Since one often encounters very small probabilities when sampling from some pdf it is usually a good idea to work with log probabilities instead.\n",
    "* Modify the code above to employ log-probabilities instead."
   ]
  },
  {
   "cell_type": "markdown",
   "metadata": {},
   "source": [
    "## Part 3: Detailed balance and the Metropolis-Hastings algorithm"
   ]
  },
  {
   "cell_type": "markdown",
   "metadata": {},
   "source": [
    "### Questions / tasks\n",
    "* Write an expression for the Metropolis acceptance probability, $\\alpha(X_t, X_{t+1})$, that describes the probability of accepting a proposed step from $X_t$ to $X_{t+1}$. Use the notation $p(X_t | D, I)$ for the probability of drawing sample $X_t$ from the posterior and analogous for $p(X_{t+1} | D, I)$.\n",
    "\n",
    "Let us introduce the notation $q(X_{t+1} | X_t)$ for the probability (pdf) for proposing a step from position $X_t$ to $X_{t+1}$.\n",
    "* What does $q(X_{t+1} | X_t)$ correspond to in the above example?\n",
    "\n",
    "From these two quantities, $q(X_{t+1} | X_t)$ and $\\alpha(X_t, X_{t+1})$, it is possible to define a transition kernel\n",
    "$$\n",
    "p(X_{t+1}|X_t) = q(X_{t+1} | X_t) \\alpha(X_t, X_{t+1})\n",
    "$$\n",
    "* Why do you think that is called a _transition kernel_?\n",
    "\n",
    "Our definition of the acceptance probability implies _detailed balance_\n",
    "$$\n",
    "p(X_t | D, I) p(X_{t+1}|X_t) = p(X_{t+1} | D, I) p(X_t|X_{t+1}),\n",
    "$$\n",
    "* Why do you think that this property is called detailed balance? Can you make an analogy with thermodynamic equilibrium for e.g. a collection of hydrogen atoms?\n",
    "\n",
    "In this exercise we have considered the Metropolis algorithm, proposed by Metropolis _et al._ in 1953. Hastings (1970) generalized the algorithm to include asymmetric proposal distributions. The single consequence of this generalization is a modification of the acceptance probability $\\alpha(X_t, X_{t+1})$.\n",
    "* How is the acceptance probability $\\alpha(X_t, X_{t+1})$ modified when allowing for asymmetric proposal distributions?\n",
    "* Try to make this change in the code above and try with both symmetric and asymmetric proposal distributions. For an asymmetric proposal distribution you could use a log normal pdf (which is available from scipy.stats)."
   ]
  },
  {
   "cell_type": "code",
   "execution_count": null,
   "metadata": {},
   "outputs": [],
   "source": []
  }
 ],
 "metadata": {
  "celltoolbar": "Slideshow",
  "kernelspec": {
   "display_name": "Python 3",
   "language": "python",
   "name": "python3"
  },
  "language_info": {
   "codemirror_mode": {
    "name": "ipython",
    "version": 3
   },
   "file_extension": ".py",
   "mimetype": "text/x-python",
   "name": "python",
   "nbconvert_exporter": "python",
   "pygments_lexer": "ipython3",
   "version": "3.7.3"
  }
 },
 "nbformat": 4,
 "nbformat_minor": 2
}
