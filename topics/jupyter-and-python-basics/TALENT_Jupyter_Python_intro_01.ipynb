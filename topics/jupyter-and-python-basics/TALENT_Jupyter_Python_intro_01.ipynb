{
 "cells": [
  {
   "cell_type": "markdown",
   "metadata": {},
   "source": [
    "# Python and Jupyter notebooks: part 01\n",
    "\n",
    "Last revised: 04-Jun-2019 by Dick Furnstahl [furnstahl.1@osu.edu]"
   ]
  },
  {
   "cell_type": "markdown",
   "metadata": {},
   "source": [
    "**You can find valuable documentation under the Jupyter notebook Help menu. The \"User Interface Tour\" and \"Keyboard Shortcuts\" are useful places to start, but there are also many other links to documentation there.** "
   ]
  },
  {
   "cell_type": "markdown",
   "metadata": {},
   "source": [
    "This is a whirlwind tool of just the minimum we need to know about Python and Jupyter notebooks to get started doing statistics problems.  We'll add more features and details as we proceed.\n",
    "\n",
    "A Jupyter notebook is displayed on a web browser on a computer, tablet (e.g., IPad), or even your smartphone.  The notebook is divided into *cells*, of which two types are relevant for us:\n",
    "* Markdown cells: These have headings, text, and mathematical formulas in $\\LaTeX$ using a simple form of HTML called markdown.\n",
    "* Code cells: These have Python code (or other languages, but we'll stick to Python).\n",
    "\n",
    "Either type of cell can be selected with your cursor and will be highlighted in color when active.  You evaluate an active cell with shift-return (as with Mathematica) or by pressing `Run` on the toolbar.  Some notes:\n",
    "* When a new cell is inserted, by default it is a Code cell and will have `In []:` in front.  You can type Python expressions or entire programs in a cell.  How you break up code between cells is your choice and you can always put Markdown cells in between.  When you evaluate a cell it gets the next number, e.g., `In [5]:`.\n",
    "* On the menu bar is a pulldown menu that lets you change back and forth between Code and Markdown cells.  Once you evaluate a Markdown cell, it gets formatted (and has a blue border).  To edit the Markdown cell, double click in it. \n",
    "\n",
    "**Try double-clicking on this cell and then shift-return.**  You will see that a bullet list is created just with an asterisk and a space at the beginning of lines (without the space you get *italics* and with two asterisks you get **bold**).  **Double click on the title header above and you'll see it starts with a single #.**  Headings of subsections are made using ## or ###.  See this [Markdown cheatsheet](https://github.com/adam-p/markdown-here/wiki/Markdown-Cheatsheet) for a quick tour of the Markdown language (including how to add links!).\n",
    "\n",
    "**Now try turning the next (empty) cell to a Markdown cell and type:** `Einstein says $E=mc^2$` **and then evaluate it.**  This is $\\LaTeX$! (If you forget to convert to Markdown and get `SyntaxError: invalid syntax`, just select the cell and convert to Markdown with the menu.)"
   ]
  },
  {
   "cell_type": "code",
   "execution_count": null,
   "metadata": {},
   "outputs": [],
   "source": []
  },
  {
   "cell_type": "markdown",
   "metadata": {},
   "source": [
    "The menus enable you to rename your notebook file (always ending in `.ipynb`) or `Save and Checkpoint` to save the changes to your notebook.  You can insert and delete cells (use the up and down arrows in the toolbar to easily move cells).  You will often use the `Kernel` menu to `Restart` the notebook (and possibly clear output)."
   ]
  },
  {
   "cell_type": "markdown",
   "metadata": {},
   "source": [
    "## Ok, time to try out Python expressions and numpy\n",
    "\n",
    "We can use the Jupyter notebook as a super calculator much like Mathematica and Matlab.  **Try some basic operations, modifying and evaluating the following cells, noting that exponentiation is with** `**` **and not** `^`."
   ]
  },
  {
   "cell_type": "code",
   "execution_count": null,
   "metadata": {},
   "outputs": [],
   "source": [
    " 1 + 1  # Everything after a number sign / pound sign / hashtag) \n",
    "        #  is a comment"
   ]
  },
  {
   "cell_type": "code",
   "execution_count": null,
   "metadata": {},
   "outputs": [],
   "source": [
    "3.2 * 4.713"
   ]
  },
  {
   "cell_type": "markdown",
   "metadata": {},
   "source": [
    "Note that if we want a floating point number (which will be the same as a `double` in C++), we *always* include a decimal point (even when we don't have to) while a number without a decimal point is an integer."
   ]
  },
  {
   "cell_type": "code",
   "execution_count": null,
   "metadata": {},
   "outputs": [],
   "source": [
    "3.**2"
   ]
  },
  {
   "cell_type": "markdown",
   "metadata": {},
   "source": [
    "We can define integer, floating point, and string variables, perform operations on them, and print them.  Note that we don't have to predefine the type of a variable and we can use underscores in the names (unlike Mathematica).  **Evaluate the following cells and then try your own versions.** "
   ]
  },
  {
   "cell_type": "code",
   "execution_count": null,
   "metadata": {
    "scrolled": true
   },
   "outputs": [],
   "source": [
    "x = 5.\n",
    "print(x)\n",
    "x   # If the last line of a cell returns a value, it is printed."
   ]
  },
  {
   "cell_type": "code",
   "execution_count": null,
   "metadata": {},
   "outputs": [],
   "source": [
    "y = 3.*x**2 - 2.*x + 7.\n",
    "print('y = ', y)           # Strings delimited by ' 's\n",
    "print(f'y = {y:.0f}')      # Just a preview: more on format later \n",
    "print(f'y = {y:.2f}')      #  (note that this uses the \"new\" fstring)"
   ]
  },
  {
   "cell_type": "code",
   "execution_count": null,
   "metadata": {},
   "outputs": [],
   "source": [
    "first_name = 'Dick'     # Strings delimited by ' 's\n",
    "last_name = 'Furnstahl'\n",
    "full_name = first_name + ' ' + last_name  # you can concatenate strings \n",
    "print(full_name)"
   ]
  },
  {
   "cell_type": "markdown",
   "metadata": {},
   "source": [
    "Ok, how about square roots and trigonometric functions and ... \n",
    "\n",
    "*(Note: the next cells will give error messages --- keep reading to see how to fix them.)*"
   ]
  },
  {
   "cell_type": "code",
   "execution_count": null,
   "metadata": {},
   "outputs": [],
   "source": [
    "sqrt(2)"
   ]
  },
  {
   "cell_type": "code",
   "execution_count": null,
   "metadata": {},
   "outputs": [],
   "source": [
    "sin(pi)"
   ]
  },
  {
   "cell_type": "markdown",
   "metadata": {},
   "source": [
    "We need to `import` these functions through the numpy library. There are other choices, but numpy works with the arrays we will use.  Note: *Never* use `from numpy import *` instead of `import numpy as np`.  Here `np` is just a abbreviation for numpy (which we can choose to be anything, but `np` is conventional)."
   ]
  },
  {
   "cell_type": "code",
   "execution_count": null,
   "metadata": {},
   "outputs": [],
   "source": [
    "import numpy as np"
   ]
  },
  {
   "cell_type": "code",
   "execution_count": null,
   "metadata": {},
   "outputs": [],
   "source": [
    "print(np.cos(0.))"
   ]
  },
  {
   "cell_type": "markdown",
   "metadata": {},
   "source": [
    "Now functions and constants like `np.sqrt` and `np.pi` will work.  Go back and fix the square root and sine."
   ]
  },
  {
   "cell_type": "markdown",
   "metadata": {},
   "source": [
    "### Debugging aside . . .\n",
    "\n",
    "Suppose you try to import and it fails (**go ahead and evaluate the cell**):"
   ]
  },
  {
   "cell_type": "code",
   "execution_count": null,
   "metadata": {},
   "outputs": [],
   "source": [
    "import numpie"
   ]
  },
  {
   "cell_type": "markdown",
   "metadata": {},
   "source": [
    "When you get a `ModuleNotFoundError`, the first thing to check is whether you have misspelled the name. Try using Google, e.g., search for \"python numpie\". In this case (and in most others), Google will suggest the correct name (here it is numpy).  If the name does exist, check whether it sounds like the package you wanted.\n",
    "\n",
    "If you have the correct spelling, check whether you have installed the relevant package.  If you installed Python with Anaconda (which we will assume you did -- if not, do it!), then use `conda list`, e.g., `conda list numpy` in a Terminal window (on a Mac or Linux box) or in an Anaconda Prompt window (on a Windows PC)."
   ]
  },
  {
   "cell_type": "markdown",
   "metadata": {},
   "source": [
    "### numpy arrays\n",
    "\n",
    "At first, we will most often use numpy arrays so we'll start with those.  They are *like* lists delimited by square brackets, i.e., `[]`s, and we will construct them with `np.arange(min, max, step)` to get an array from `min` to `max` in steps of `step`. Examples:"
   ]
  },
  {
   "cell_type": "code",
   "execution_count": null,
   "metadata": {
    "scrolled": true
   },
   "outputs": [],
   "source": [
    "t_pts = np.arange(0., 10., .1)\n",
    "t_pts"
   ]
  },
  {
   "cell_type": "markdown",
   "metadata": {},
   "source": [
    "If we give a numpy array to a function, each term in the list is evaluated with that function:"
   ]
  },
  {
   "cell_type": "code",
   "execution_count": null,
   "metadata": {},
   "outputs": [],
   "source": [
    "x = np.arange(1., 5., 1.)\n",
    "print(x)\n",
    "print(x**2)\n",
    "print(np.sqrt(x))"
   ]
  },
  {
   "cell_type": "markdown",
   "metadata": {},
   "source": [
    "We can pick out elements of the list.  Why does the last one fail? "
   ]
  },
  {
   "cell_type": "code",
   "execution_count": null,
   "metadata": {},
   "outputs": [],
   "source": [
    "print(x[0])\n",
    "print(x[3])\n",
    "print(x[4])"
   ]
  },
  {
   "cell_type": "markdown",
   "metadata": {},
   "source": [
    "## Getting help\n",
    "\n",
    "You will often need help identifying the appropriate Python (or numpy or scipy or ...) command or you will need an example of how to do something or you may get an error message you can't figure out.  In all of these cases, Google (or equivalent) is your friend. Always include \"python\" in the search string (or \"numpy\" or \"matplotlib\" or ...) to avoid getting results for a different language. You will usually get an online manual as one of the first responses if you ask about a function; these usually have examples if you scroll down. Otherwise, answers from *Stack Overflow* queries are your best bet to find a useful answer."
   ]
  },
  {
   "cell_type": "markdown",
   "metadata": {},
   "source": [
    "## Functions\n",
    "\n",
    "There are many Python language features that we will use eventually, but in the short term what we need first are functions.  Here we first see the role of *indentation* in Python in place of {}s or ()s in other languages.  We'll always indent four spaces (never tabs!).  We know a function definition is complete when the indentation stops. \n",
    "\n",
    "To find out about a Python function or one you define, put your cursor on the function name and hit shift+Tab+Tab. **Go back and try it on `np.arange`.**  "
   ]
  },
  {
   "cell_type": "code",
   "execution_count": null,
   "metadata": {},
   "outputs": [],
   "source": [
    "# Use \"def\" to create new functions.  \n",
    "#  Note the colon and indentation (4 spaces).\n",
    "def my_function(x):\n",
    "    \"\"\"This function squares the input.  Always include a brief description\n",
    "        at the top between three starting and three ending quotes.  We will\n",
    "        talk more about proper documentation later.\n",
    "        Try shift+Tab+Tab after you have evaluated this function.\n",
    "    \"\"\"\n",
    "    return x**2\n",
    "\n",
    "print(my_function(5.))\n",
    "\n",
    "# We can pass an array to the function and it is evaluated term-by-term.\n",
    "x_pts = np.arange(1.,10.,1.)\n",
    "print(my_function(x_pts))"
   ]
  },
  {
   "cell_type": "code",
   "execution_count": null,
   "metadata": {
    "scrolled": true
   },
   "outputs": [],
   "source": [
    "# Two variables, with a default for the second\n",
    "def add(x, y=4.):\n",
    "    \"\"\"Add two numbers.\"\"\"\n",
    "    print(\"x is {} and y is {}\".format(x, y))\n",
    "    return x + y  # Return values with a return statement\n",
    "\n",
    "# Calling functions with parameters\n",
    "print('The sum is ', add(5, 6))  # => prints out \"x is 5 and y is 6\" and returns 11\n",
    "\n",
    "# Another way to call functions is with keyword arguments\n",
    "add(y=6, x=5)  # Keyword arguments can arrive in any order.\n"
   ]
  },
  {
   "cell_type": "markdown",
   "metadata": {},
   "source": [
    "How do you explain the following result?"
   ]
  },
  {
   "cell_type": "code",
   "execution_count": null,
   "metadata": {},
   "outputs": [],
   "source": [
    "add(2)"
   ]
  },
  {
   "cell_type": "markdown",
   "metadata": {},
   "source": [
    "### Debugging aside . . .\n",
    "\n",
    "There are two bugs in the following function.  **Note the line where an error is first reported and fix the bugs sequentially (so you see the different error messages).**"
   ]
  },
  {
   "cell_type": "code",
   "execution_count": null,
   "metadata": {
    "code_folding": []
   },
   "outputs": [],
   "source": [
    "def hello_function()\n",
    "    msg = \"hello, world!\"\n",
    "    print(msg)\n",
    "     return msg"
   ]
  },
  {
   "cell_type": "markdown",
   "metadata": {},
   "source": [
    "## Plotting with Matplotlib\n",
    "\n",
    "Matplotlib is the plotting library we'll use, at least at first.  We'll follow convention and abbreviate the module we need as `plt`.  The `%matplotlib inline` line tells the Jupyter notebook to make inline plots (we'll see other possibilities later)."
   ]
  },
  {
   "cell_type": "code",
   "execution_count": null,
   "metadata": {},
   "outputs": [],
   "source": [
    "%matplotlib inline\n",
    "\n",
    "import numpy as np\n",
    "import matplotlib.pyplot as plt"
   ]
  },
  {
   "cell_type": "markdown",
   "metadata": {},
   "source": [
    "Procedure we'll use to make the skeleton plot:\n",
    "0. Generate some data to plot in the form of arrays.\n",
    "1. Create a figure;\n",
    "2. add one or more subplots;\n",
    "3. make a plot and display it."
   ]
  },
  {
   "cell_type": "code",
   "execution_count": null,
   "metadata": {},
   "outputs": [],
   "source": [
    "t_pts = np.arange(0., 10., .1)     # step 0.\n",
    "x_pts = np.sin(t_pts)  # More often this would be from a function \n",
    "                       #  *we* write.\n",
    "\n",
    "my_fig = plt.figure()              # step 1.\n",
    "my_ax = my_fig.add_subplot(1,1,1)  # step 2: rows=1, cols=1, 1st subplot\n",
    "my_ax.plot(t_pts, x_pts)           # step 3: plot x vs. t"
   ]
  },
  {
   "cell_type": "markdown",
   "metadata": {},
   "source": [
    "NOTE: When making just a single plot, you will more usually see steps 1 to 3 compressed into `plt.plot(t_pts, np.sin(t_pts))`.  Don't do this.  It saves a couple of lines but restricts your ability to easily extend the plot, which is what we want to make easy."
   ]
  },
  {
   "cell_type": "markdown",
   "metadata": {},
   "source": [
    "We can always go back and dress up the plot:"
   ]
  },
  {
   "cell_type": "code",
   "execution_count": null,
   "metadata": {},
   "outputs": [],
   "source": [
    "my_fig = plt.figure()\n",
    "my_ax = my_fig.add_subplot(1,1,1)  # nrows=1, ncols=1, first plot\n",
    "my_ax.plot(t_pts, x_pts, color='blue', linestyle='--', label='sine')\n",
    "\n",
    "my_ax.set_xlabel('t')\n",
    "my_ax.set_ylabel(r'$\\sin(t)$')  # here $s to get LaTeX and r to render it\n",
    "my_ax.set_title('Sine wave')\n",
    "\n",
    "# here we'll put the function in the call to plot!\n",
    "my_ax.plot(t_pts, np.cos(t_pts), label='cosine')  # just label the plot\n",
    "\n",
    "my_ax.legend();  # turn on legend\n"
   ]
  },
  {
   "cell_type": "markdown",
   "metadata": {},
   "source": [
    "Now make two subplots:"
   ]
  },
  {
   "cell_type": "code",
   "execution_count": null,
   "metadata": {},
   "outputs": [],
   "source": [
    "y_pts = np.exp(t_pts)         # another function for a separate plot\n",
    "\n",
    "fig = plt.figure(figsize=(10,5))  # allow more room for two subplots\n",
    "\n",
    "# call the first axis ax1\n",
    "ax1 = fig.add_subplot(1,2,1)  # one row, two columns, first plot\n",
    "ax1.plot(t_pts, x_pts, color='blue', linestyle='--', label='sine')\n",
    "ax1.plot(t_pts, np.cos(t_pts), label='cosine')  # just label the plot\n",
    "ax1.legend()\n",
    "\n",
    "ax2 = fig.add_subplot(1,2,2)  # one row, two columns, second plot\n",
    "ax2.plot(t_pts, np.exp(t_pts), label='exponential')  \n",
    "ax2.legend();\n"
   ]
  },
  {
   "cell_type": "markdown",
   "metadata": {},
   "source": [
    "## Widgets!\n",
    "\n",
    "A widget is an object such as a slider or a check box or a pulldown menu.  We can use them to make it easy to explore different parameter values in a problem we're solving, which is invaluable for building intuition.  They act on the argument of a function.  We'll look at a simple case here but plan to explore this much more as we proceed.\n",
    "\n",
    "The set of widgets we'll use here (there are others!) is from `ipywidgets`; we'll conventionally import the module as `import ipywidgets as widgets` and we'll also often use `display` from `Ipython.display`."
   ]
  },
  {
   "cell_type": "code",
   "execution_count": null,
   "metadata": {},
   "outputs": [],
   "source": [
    "import numpy as np\n",
    "import matplotlib.pyplot as plt\n",
    "\n",
    "import ipywidgets as widgets\n",
    "from IPython.display import display\n",
    "\n",
    "%matplotlib inline"
   ]
  },
  {
   "cell_type": "markdown",
   "metadata": {},
   "source": [
    "The simplest form is to use `interact`, which we pass a function name and the variables with ranges.  By default this makes a *slider*, which takes on integer or floating point values depending on whether you put decimal points in the range. **Try it! Then modify the function and try again.**"
   ]
  },
  {
   "cell_type": "code",
   "execution_count": null,
   "metadata": {},
   "outputs": [],
   "source": [
    "# We can do this to any function\n",
    "def test_f(x=5.):\n",
    "    \"\"\"Test function that prints the passed value and its square.\n",
    "       Note that there is no return value in this case.\"\"\"\n",
    "    print ('x = ', x, ' and  x^2 = ', x**2)\n",
    "    \n",
    "widgets.interact(test_f, x=(0.,10.));"
   ]
  },
  {
   "cell_type": "code",
   "execution_count": null,
   "metadata": {},
   "outputs": [],
   "source": [
    "# Explicit declaration of the widget (here FloatSlider) and details\n",
    "def test_f(x=5.):\n",
    "    \"\"\"Test function that prints the passed value and its square.\n",
    "       Note that there is no return value in this case.\"\"\"\n",
    "    print ('x = ', x, ' and  x^2 = ', x**2)\n",
    "    \n",
    "widgets.interact(test_f, \n",
    "                 x = widgets.FloatSlider(min=-10,max=30,step=1,value=10));"
   ]
  },
  {
   "cell_type": "markdown",
   "metadata": {},
   "source": [
    "Here's an example with some bells and whistles for a plot.  **Try making changes!**"
   ]
  },
  {
   "cell_type": "code",
   "execution_count": null,
   "metadata": {},
   "outputs": [],
   "source": [
    "def plot_it(freq=1., color='blue', lw=2, grid=True, xlabel='x', \n",
    "            function='sin'):\n",
    "    \"\"\" Make a simple plot of a trig function but allow the plot style\n",
    "        to be changed as well as the function and frequency.\"\"\"\n",
    "    t = np.linspace(-1., +1., 1000)  # linspace(min, max, total #)\n",
    "\n",
    "    fig = plt.figure(figsize=(8,6))\n",
    "    ax = fig.add_subplot(1,1,1)\n",
    "\n",
    "    if function=='sin':\n",
    "        ax.plot(t, np.sin(2*np.pi*freq*t), lw=lw, color=color)\n",
    "    elif function=='cos':\n",
    "        ax.plot(t, np.cos(2*np.pi*freq*t), lw=lw, color=color)\n",
    "    elif function=='tan':\n",
    "        ax.plot(t, np.tan(2*np.pi*freq*t), lw=lw, color=color)\n",
    "\n",
    "    ax.grid(grid)\n",
    "    ax.set_xlabel(xlabel)\n",
    "    \n",
    "widgets.interact(plot_it, \n",
    "                 freq=(0.1, 2.), color=['blue', 'red', 'green'], \n",
    "                 lw=(1, 10), xlabel=['x', 't', 'dog'],\n",
    "                 function=['sin', 'cos', 'tan'])\n",
    "    "
   ]
  }
 ],
 "metadata": {
  "kernelspec": {
   "display_name": "Python 3",
   "language": "python",
   "name": "python3"
  },
  "language_info": {
   "codemirror_mode": {
    "name": "ipython",
    "version": 3
   },
   "file_extension": ".py",
   "mimetype": "text/x-python",
   "name": "python",
   "nbconvert_exporter": "python",
   "pygments_lexer": "ipython3",
   "version": "3.6.8"
  }
 },
 "nbformat": 4,
 "nbformat_minor": 2
}
