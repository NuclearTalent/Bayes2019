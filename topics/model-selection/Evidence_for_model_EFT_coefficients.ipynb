{
 "cells": [
  {
   "cell_type": "markdown",
   "metadata": {
    "slideshow": {
     "slide_type": "slide"
    }
   },
   "source": [
    "# Evidence calculation for EFT expansions"
   ]
  },
  {
   "cell_type": "markdown",
   "metadata": {
    "slideshow": {
     "slide_type": "fragment"
    }
   },
   "source": [
    "<div style=\"text-align: center !important;\"><img src=\"fitting_an_elephant_quote.png\"></div>"
   ]
  },
  {
   "cell_type": "markdown",
   "metadata": {
    "slideshow": {
     "slide_type": "subslide"
    }
   },
   "source": [
    "## The toy model\n",
    "\n",
    "Here we continue to explore aspects of Bayesian statistical analysis using toy models for effective field theories (EFTs), namely Taylor series of some specified functions.  In this notebook we are exploring the evidence for how many coefficients in the EFT expansion are determined by the given data. \n",
    "\n",
    "Let's first review the function was are using as a toy model, taken from [*Bayesian parameter estimation for effective field theories*](https://arxiv.org/abs/1511.03618):\n",
    "\n",
    "$$\n",
    "g(x) = \\left(\\frac12 + \\tan\\left(\\frac{\\pi}{2}x\\right)\\right)^2\n",
    "$$\n",
    "\n",
    "represents the true, underlying theory.  It has a Taylor expansion\n",
    "\n",
    "$$\n",
    "g(x) = 0.25 + 1.57x + 2.47x^2 + 1.29 x^3 + \\cdots\n",
    "$$\n",
    "\n",
    "Our model for an EFT for this \"theory\" is\n",
    "\n",
    "$$\n",
    "g_{\\rm th}(x) \\equiv \\sum_{i=0}^k a_i x^i \\;.\n",
    "$$\n",
    "\n",
    "In mini-project I, our general task was to fit 1, 2, 3, ... of the parameters $a_i$ and to analyze the results.\n",
    "\n",
    "$% Some LaTeX definitions we'll use.\n",
    "\\newcommand{\\pr}{{p}}  %\\newcommand{\\pr}{\\textrm{p}}\n",
    "\\newcommand{\\abar}{\\bar a}\n",
    "\\newcommand{\\avec}{{\\bf a}}\n",
    "\\newcommand{\\kmax}{k_{\\rm max}}\n",
    "$\n",
    "\n"
   ]
  },
  {
   "cell_type": "markdown",
   "metadata": {
    "slideshow": {
     "slide_type": "slide"
    }
   },
   "source": [
    "## The statistical model (recap)\n",
    "\n",
    "\n",
    "Here we are given data with simple error bars, which imply that the probability for any *single* data point is a normal distribution about the true value. That is,\n",
    "\n",
    "$$\n",
    "y_i \\sim \\mathcal{N}(y_M(x_i;\\theta), \\varepsilon_i)\n",
    "$$\n",
    "\n",
    "or, in other words,\n",
    "\n",
    "$$\n",
    "\\pr(x_i,y_i\\mid\\theta) = \\frac{1}{\\sqrt{2\\pi\\varepsilon_i^2}} \\exp\\left(\\frac{-\\left[y_i - y_M(x_i;\\theta)\\right]^2}{2\\varepsilon_i^2}\\right)\n",
    "$$\n",
    "\n",
    "where $\\varepsilon_i$ are the (known) measurement errors indicated by the error bars.\n",
    "\n",
    "\n",
    "Assuming all the points are independent, we can find the full likelihood by multiplying the individual likelihoods together:\n",
    "\n",
    "$$\n",
    "\\pr(D\\mid\\theta) = \\prod_{i=1}^N \\pr(x_i,y_i | \\theta)\n",
    "$$\n",
    "\n",
    "For convenience and numerical accuracy, this is usually expressed in terms of the log-likelihood:\n",
    "\n",
    "$$\n",
    "\\log \\pr(D\\mid\\theta) = -\\frac{1}{2}\\sum_{i=1}^N\\left(\\log(2\\pi\\varepsilon_i^2) + \\frac{\\left[y_i - y_M(x_i;\\theta)\\right]^2}{\\varepsilon_i^2}\\right)\n",
    "$$\n",
    "\n",
    "\n",
    "We consider two priors for the coefficients.  The first is a Gaussian prior encodes naturalness through the parameter $\\abar$:\n",
    "\n",
    "$$\n",
    "\\pr(\\avec\\mid \\abar, I) = \\left(\\frac{1}{\\sqrt{2\\pi}\\abar}\\right)^{k+1} \\exp{\\left(-\\frac{\\avec^2}{2\\abar^2}\\right)}\n",
    "$$\n",
    "\n",
    "with $\\abar$ taken to be fixed (at $\\abar_{\\rm fix} = 5$ usually).  That is, the prior pdf for $\\abar$ is\n",
    "\n",
    "$$\n",
    "\\pr(\\abar) = \\delta(\\abar - \\abar_{\\rm fix}) \\;.\n",
    "$$\n",
    "\n",
    "(In more recent work, we have used a conjugate prior for $\\abar$ that simplifies the calculations.)\n",
    "\n",
    "The second is an uninformative uniform prior that we take to be a constant (cutting it off only at very high values, which\n",
    "may not even be needed).\n",
    "Given likelihood and prior, the posterior pdf by Bayes' Theorem is\n",
    "\n",
    "$$\n",
    "\\pr(\\avec\\mid D, k, \\kmax, I) = \\frac{\\pr(D\\mid \\avec, k, \\kmax, I)\\; \\pr(\\avec\\mid I)}{\\pr(D \\mid k, \\kmax, I)}\n",
    "$$\n",
    "\n",
    "We have focused previously on calculating this posterior to find distributions for the coefficients $\\theta = \\{a_0, a_1, \\cdots, a_k\\}$. \n",
    "Furthermore, up to now we have ignored the denominator, which is the *evidence*, because we didn't need to calculate it independently.  Now we will calculate it."
   ]
  },
  {
   "cell_type": "code",
   "execution_count": 1,
   "metadata": {
    "slideshow": {
     "slide_type": "slide"
    }
   },
   "outputs": [],
   "source": [
    "%matplotlib inline\n",
    "import matplotlib.pyplot as plt\n",
    "import numpy as np\n",
    "import seaborn; seaborn.set(\"talk\") # for plot formatting\n",
    "import scipy.stats as stats\n",
    "from scipy import linalg\n",
    "\n",
    "from cycler import cycler\n",
    "from matplotlib.cm import get_cmap\n"
   ]
  },
  {
   "cell_type": "markdown",
   "metadata": {
    "slideshow": {
     "slide_type": "slide"
    }
   },
   "source": [
    "## The Data and the true result\n",
    "\n",
    "Let's start by defining the exact function and the data for the toy model."
   ]
  },
  {
   "cell_type": "code",
   "execution_count": 2,
   "metadata": {
    "slideshow": {
     "slide_type": "fragment"
    }
   },
   "outputs": [],
   "source": [
    "def g_fun(x):\n",
    "    \"\"\"\n",
    "    Toy function to model an EFT expansion.  It has a Taylor expansion about\n",
    "    x=0 with a radius of convergence of 1.\n",
    "    \"\"\"\n",
    "    return (0.5 + np.tan(np.pi * x / 2.))**2\n",
    "\n",
    "def y_model(x_pts, theta, orders=None):\n",
    "    \"\"\"\n",
    "    Returns the evaluation of the theoretical model at all x values in the\n",
    "    numpy array x_pts, using orders coefficients from theta (defaults to all).\n",
    "    \"\"\"\n",
    "    if orders is None:   # allow for not using the full theta vector\n",
    "        orders = len(theta)\n",
    "        \n",
    "    return np.array( [ np.sum(\n",
    "                               [theta[i] * x**i for i in range(orders)]\n",
    "                             ) for x in x_pts ] )\n",
    "    "
   ]
  },
  {
   "cell_type": "code",
   "execution_count": 3,
   "metadata": {
    "slideshow": {
     "slide_type": "subslide"
    }
   },
   "outputs": [
    {
     "data": {
      "image/png": "[encoded data removed]",
      "text/plain": [
       "<Figure size 576x432 with 1 Axes>"
      ]
     },
     "metadata": {
      "needs_background": "light"
     },
     "output_type": "display_data"
    }
   ],
   "source": [
    "theta_true = np.array([0.25, 1.5707963, 2.4674011, 1.2919282, 4.0587121,\n",
    "                       1.275082, 5.67486677])\n",
    "\n",
    "# Generate data points as described in the paper; remember these are relative\n",
    "#  errors, so multiply the percent by the data at each x. \n",
    "x_max = 1./np.pi   # we'll eventually test sensitivity to x_max\n",
    "x_data_pts = np.linspace(x_max/10., x_max, 10) # don't start at x=0\n",
    "eta = 0.05         # specified relative uncertainty is 5%\n",
    "\n",
    "# Here we generate new (different) data points with every run\n",
    "y_data_pts = g_fun(x_data_pts) * \\\n",
    "                  (1. + stats.norm.rvs(0., eta, size=len(x_data_pts)) )\n",
    "# *** The following is the exact data with errors from the paper *** \n",
    "y_data_pts = np.array([0.31694, 0.33844, 0.42142, 0.57709, 0.56218, \\\n",
    "                        0.68851, 0.73625, 0.87270, 1.0015, 1.0684])\n",
    "\n",
    "dy_data = eta * y_data_pts\n",
    "\n",
    "# Always make a figure to check your data!\n",
    "fig = plt.figure(figsize=(8,6))\n",
    "ax = fig.add_subplot(1,1,1)\n",
    "ax.errorbar(x_data_pts, y_data_pts, dy_data, fmt='o')\n",
    "ax.set_xlabel(r'x')\n",
    "ax.set_ylabel(r'g(x)')\n",
    "ax.set_xlim(0, 0.5)\n",
    "ax.set_ylim(0, 1.5)\n",
    "\n",
    "x_pts_all = np.arange(0., 1., .01)\n",
    "ax.plot(x_pts_all, g_fun(x_pts_all), color='red', alpha=0.5, label='exact')\n",
    "ax.set_title('Toy function, data, and first terms in expansion')\n",
    "\n",
    "n_dim = 3\n",
    "colors = ['b', 'g', 'c', 'm', 'k']\n",
    "for order in range(n_dim):\n",
    "    ax.plot(x_pts_all, y_model(x_pts_all, theta_true[:n_dim], order+1), \n",
    "            label=f'order {order:d}', color=colors[order], alpha=0.8)\n",
    "\n",
    "ax.legend()\n",
    "fig.tight_layout()"
   ]
  },
  {
   "cell_type": "markdown",
   "metadata": {
    "slideshow": {
     "slide_type": "slide"
    }
   },
   "source": [
    "## Evidence calculation\n",
    "\n",
    "Now we seek to reproduce and understand Figure 8 in the paper [*Bayesian parameter estimation for effective field theories*](https://arxiv.org/abs/1511.03618), which shows that the evidence for the model expansion up to order $\\kmax$ *saturates* (i.e., increases up to a maximum and then flattens out close to that value).  This is in contrast to the more typical expectation from evidence calculations that lead to a definite peak.\n",
    "\n",
    "The evidence can be expressed by marginalization as an integral over *all possible* $\\avec$. (The notation with $k$ and $\\kmax$ is for consistency with the paper; for our purposes today consider this as the evidence for an expansion up to order $k$.)\n",
    "\n",
    "$$\n",
    "\\begin{align}\n",
    "\\pr(D \\mid k \\leq \\kmax, \\kmax, I) &= \\int d\\abar \\int d\\avec \\, \\pr(D \\mid \\avec, k=\\kmax, \\kmax, I) \\;\n",
    "   \\pr(\\avec\\mid\\abar, I)\\; \\pr(\\abar\\mid I)\n",
    "\\end{align}\n",
    "$$\n",
    "\n",
    "*If you don't see how this equations comes about, please ask!*\n",
    "\n",
    "The first term in the integrand is the likelihood, which we saw above is a multivariate Gaussian and, in the present case with independent points, it is very simple, just the product of one-dimensional Gaussians.  If we take the case of a Gaussian prior for $\\avec$ and the fixed (delta function) prior for $\\abar$, we can do the $\\abar$ integral for free and the remaining integral for the evidence can be done analytically.  "
   ]
  },
  {
   "cell_type": "markdown",
   "metadata": {
    "slideshow": {
     "slide_type": "subslide"
    }
   },
   "source": [
    "### Evidence using linear algebra and Gaussian integrals\n",
    "\n",
    "If we write the multivariate Gaussians in the evidence in matrix form, we can use the basic formula for integration:\n",
    "\n",
    "$$\n",
    "\\int e^{-\\frac12 x^T A x + B^T x}\\, d^nx = \\sqrt{\\det (2\\pi A^{-1})} \\; e^{\\frac12 B^T A^{-1} B}\n",
    "$$\n",
    "\n",
    "where $x$ and $B$ are n-dimensional vectors and $A$ is an $n\\times n$ matrix, with $n$ the number of data points.  The $x_i$ integrations are from $-\\infty$ to $+\\infty$."
   ]
  },
  {
   "cell_type": "markdown",
   "metadata": {},
   "source": [
    "### Evidence using conjugate prior\n",
    "\n",
    "The usefulness of a conjugate prior is in carrying out a Bayesian update without having to do any calculation.  Recall yet again how Bayes theorem tells us how to update (the information $I$ will be implicit in the following):\n",
    "\n",
    "$$\n",
    "\\pr(\\theta\\mid D) = \\frac{\\pr(D\\mid\\theta)\\; \\pr(\\theta)}{\\pr(D)}  \n",
    "$$\n",
    "\n",
    "If $\\pr(\\theta)$ is a conjugate prior to the likelihood, the updating consists solely of changing the parameters that specify the prior pdf.\n",
    "\n",
    "The most complete table of conjugate priors out in the wild seems to be the Wikipedia webpage [Conjugate Prior](https://en.wikipedia.org/wiki/Conjugate_prior).  Take a look!"
   ]
  },
  {
   "cell_type": "code",
   "execution_count": 4,
   "metadata": {
    "slideshow": {
     "slide_type": "fragment"
    }
   },
   "outputs": [],
   "source": [
    "def make_matrices(x_pts, y_pts, dy_pts, k_order, a_bar):\n",
    "    \"\"\"\n",
    "    Construct and return the matrices we'll need to calculate the evidence.  \n",
    "    We have only one observable for now, so d is omitted.\n",
    "    \"\"\"\n",
    "    m = k_order + 1   # number of coefficients is one more than the order\n",
    "        \n",
    "    A_mat = np.array( [[x**i for x in x_pts] for i in range(m)] ).T\n",
    "    Sigma_mat = np.diag(dy_pts**2)\n",
    "    Vp_mat = a_bar**2 * np.eye(m)\n",
    "    y_vec = y_pts\n",
    "    \n",
    "    return A_mat, Sigma_mat, Vp_mat, y_vec          \n",
    "\n",
    "def gaussian_norm(cov_mat):\n",
    "    \"\"\"Return the normalization factor for Gaussians.\n",
    "       You can decide whether to use a covariance matrix or its inverse.\"\"\"\n",
    "    return 1. / np.sqrt(linalg.det(2. * np.pi * cov_mat))\n"
   ]
  },
  {
   "cell_type": "code",
   "execution_count": 5,
   "metadata": {
    "slideshow": {
     "slide_type": "subslide"
    }
   },
   "outputs": [
    {
     "data": {
      "image/png": "[encoded data removed]",
      "text/plain": [
       "<Figure size 576x432 with 1 Axes>"
      ]
     },
     "metadata": {
      "needs_background": "light"
     },
     "output_type": "display_data"
    }
   ],
   "source": [
    "\n",
    "# step through the orders\n",
    "k_max = 10\n",
    "k_orders = range(k_max)\n",
    "\n",
    "evidence = np.zeros(k_max)\n",
    "for k_order in k_orders:\n",
    "    a_bar = 5.\n",
    "    A_mat, Sigma_mat, Vp_mat, y_vec = make_matrices(x_data_pts, y_data_pts, \n",
    "                                                    dy_data, k_order, a_bar)\n",
    "        \n",
    "    Sigma_mat_inv = linalg.inv(Sigma_mat)\n",
    "    \n",
    "    Lambda_mat = A_mat.T @ Sigma_mat_inv @ A_mat + linalg.inv(Vp_mat)\n",
    "    Lambda_mat_inv = linalg.inv(Lambda_mat)\n",
    "    \n",
    "    Vp_mat_inv = linalg.inv(Vp_mat)\n",
    "    \n",
    "    a_hat = Lambda_mat_inv @ A_mat.T @ Sigma_mat_inv @ y_vec\n",
    "    \n",
    "    chisq_min = (y_vec - A_mat @ a_hat).T @ Sigma_mat_inv @ \\\n",
    "                (y_vec - A_mat @ a_hat)\n",
    "    \n",
    "    evidence[k_order] = np.sqrt(linalg.det(2.*np.pi*Lambda_mat_inv)) \\\n",
    "                        * gaussian_norm(Sigma_mat) * np.exp(-chisq_min / 2.) \\\n",
    "                        * gaussian_norm(Vp_mat) \\\n",
    "                        * np.exp(- a_hat.T @ Vp_mat_inv @ a_hat / 2.) \n",
    "    \n",
    "fig, ax = plt.subplots(figsize=(8,6))\n",
    "ax.plot(k_orders[1:], evidence[1:], color='blue', marker='o', \n",
    "        linestyle='solid', linewidth=1, markersize=12)\n",
    "ax.set_title('Evidence [Fig. 8 in J Phys. G 43, 074001]')\n",
    "ax.set_xlabel(r'$k$')\n",
    "ax.set_ylabel(r'$p(D1_{5\\%} \\mid k, k_{\\rm max}=k)$')\n",
    "\n",
    "fig.tight_layout()"
   ]
  },
  {
   "cell_type": "markdown",
   "metadata": {
    "slideshow": {
     "slide_type": "slide"
    }
   },
   "source": [
    "## Things to try:\n",
    "* What do you expect to happen if you increase the range of data (set by `x_max` at the upper end)?\n",
    "* What do you expect to happen if you change (first decrease, then increase) the relative error at each point?\n",
    "* What happens if you comment the definition of `y_data_pts` that uses the exact data from the paper and instead generate the noise randomly.  Does the pattern of the evidence change?  Does the magnitude of the evidence change?"
   ]
  },
  {
   "cell_type": "markdown",
   "metadata": {
    "slideshow": {
     "slide_type": "fragment"
    }
   },
   "source": [
    "## Notes\n",
    "* The simple expression for $\\hat a$ here, which minimizes $\\chi^2$ (or, equivalently, maximizes the likelihood), analytically reproduces the results we worked hard for earlier to get by sampling.  The point of the latter exercise was to illustrate in a checkable problem how to do sampling, not because it was required in this case."
   ]
  },
  {
   "cell_type": "code",
   "execution_count": null,
   "metadata": {},
   "outputs": [],
   "source": []
  }
 ],
 "metadata": {
  "celltoolbar": "Slideshow",
  "kernelspec": {
   "display_name": "Python [conda env:talent-env]",
   "language": "python",
   "name": "conda-env-talent-env-py"
  },
  "language_info": {
   "codemirror_mode": {
    "name": "ipython",
    "version": 3
   },
   "file_extension": ".py",
   "mimetype": "text/x-python",
   "name": "python",
   "nbconvert_exporter": "python",
   "pygments_lexer": "ipython3",
   "version": "3.7.3"
  }
 },
 "nbformat": 4,
 "nbformat_minor": 2
}
