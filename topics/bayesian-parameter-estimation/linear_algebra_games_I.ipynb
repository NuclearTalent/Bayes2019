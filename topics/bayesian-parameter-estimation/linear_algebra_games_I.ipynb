{
 "cells": [
  {
   "cell_type": "markdown",
   "metadata": {
    "slideshow": {
     "slide_type": "slide"
    }
   },
   "source": [
    "# Linear algebra games including SVD for PCA\n",
    "\n",
    "Some parts adapted from [Computational-statistics-with-Python.ipynb](https://github.com/cliburn/Computational-statistics-with-Python), which is itself from a course taught at Duke University; other parts from Peter Mills' [blog](https://blog.statsbot.co/singular-value-decomposition-tutorial-52c695315254).  \n",
    "\n",
    "The goal here is to practice some linear algebra manipulations by hand and with Python, and to gain some experience and intuition with the Singular Value Decomposition (SVD).\n",
    "$\\newcommand{\\Amat}{\\mathbf{A}} \\newcommand{\\AmatT}{\\mathbf{A^\\top}}\n",
    "\\newcommand{\\thetavec}{\\boldsymbol{\\theta}}\n",
    "\\newcommand{\\Sigmamat}{\\mathbf{\\Sigma}}\n",
    "\\newcommand{\\Yvec}{\\mathbf{Y}}\n",
    "$"
   ]
  },
  {
   "cell_type": "markdown",
   "metadata": {
    "slideshow": {
     "slide_type": "slide"
    }
   },
   "source": [
    "## Preliminary exercise: manipulations using the index form of matrices\n",
    "\n",
    "If you haven't already done this earlier, prove that the Maximum Likelihood Estimate (MLE) for $\\chi^2$ given by \n",
    "\n",
    "$$\n",
    "\\chi^2 = (\\Yvec - \\Amat\\thetavec)^{\\mathbf{\\top}} \\Sigmamat^{-1} (\\Yvec - \\AmatT\\thetavec)\n",
    "$$\n",
    "\n",
    "is \n",
    "\n",
    "$$\n",
    "\\thetavec_{\\mathrm{MLE}} = (\\AmatT \\Sigmamat^{-1} \\Amat)^{-1} (\\AmatT \\Sigmamat^{-1} \\Yvec)  \\;.\n",
    "$$\n",
    "\n",
    "Here $\\thetavec$ is a $m\\times 1$ matrix of parameters (i.e., there are $m$ parameters), $\\Sigmamat$ is the $m\\times m$ covariance matrix, $\\Yvec$ is a $N\\times 1$ matrix of observations (data), and $\\Amat$ is an $N\\times m$ matrix \n",
    "\n",
    "$$\n",
    "\\Amat = \n",
    "\\left(\n",
    "\\begin{array}{cccc}\n",
    "   1  & x_1  & x_1^2 & \\cdots \\\\\n",
    "   1  & x_2  & x_2^2 & \\cdots \\\\\n",
    "   \\vdots & \\vdots & \\vdots &\\cdots \\\\\n",
    "   1  & x_N  & x_N^2 & \\cdots\n",
    "\\end{array}\n",
    "\\right)\n",
    "$$\n",
    "\n",
    "where $N$ is the number of observations.  The idea is to do this with explicit indices for vectors and matrices, using the Einstein summation convention.  \n",
    "\n",
    "A suggested approach:\n",
    "* Write $\\chi^2$ in indices: $\\chi^2 = (Y_i - A_{ij}\\theta_j)\\Sigma^{-1}_{ii'}(Y_{i'}- A_{i'j'}\\theta_{j'})$, where summations over repeated indices are implied (be careful of transposes).  *How do we see that $\\chi^2$ is a scalar?*\n",
    "* Find $\\partial\\chi^2/\\partial \\theta_k = 0$ for all $k$, using $\\partial\\theta_j/\\partial\\theta_k = 0$. Isolate the terms with one component of $\\thetavec$ from those with none.\n",
    "* You should get the matrix equation $ (\\AmatT \\Sigmamat^{-1} \\Yvec) = (\\AmatT \\Sigmamat^{-1} \\Amat)\\thetavec$. At this point you can directly solve for $\\thetavec$. *Why can you do this now?*\n",
    "* If you get stuck, see Dick's notes from the Parameter Estimation III lecture."
   ]
  },
  {
   "cell_type": "markdown",
   "metadata": {
    "slideshow": {
     "slide_type": "slide"
    }
   },
   "source": [
    "## SVD basics\n",
    "\n",
    "A singular value decomposition (SVD) decomposes a matrix $A$ into three other matrices (we'll skip the boldface font here):\n",
    "\n",
    "$$\n",
    "A = U S V^\\top\n",
    "$$\n",
    "\n",
    "where (take $m > n$ for now)\n",
    "* $A$ is an $m\\times n$ matrix;\n",
    "* $U$ is an $m\\times n$ (semi)orthogonal matrix;\n",
    "* $S$ is an $n\\times n$ diagonal matrix;\n",
    "* $V$ is an $n\\times n$ orthogonal matrix.\n",
    "\n",
    "Comments and tasks:\n",
    "* *Verify that these dimensions are compatible with the decomposition of $A$.* \n",
    "* The `scipy.linalg` function `svd` has a Boolean argument `full_matrices`.  If `False`, it returns the decomposition above with matrix dimensions as stated.  If `True`, then $U$ is $m\\times m$, $S$ is $m \\times n$, and $V$ is $n\\times n$.  We will use the `full_matrices = False` form here.  *Can you see why this is ok?*\n",
    "* Recall that orthogonal means that $U^\\top U = I_{n\\times n}$ and $V V^\\top = I_{n\\times n}$.  *Are $U U^\\top$ and $V^\\top V$ equal to identity matrices?*\n",
    "* In index form, the decomposition of $A$ is $A_{ij} = U_{ik} S_k V_{jk}$, where the diagonal matrix elements of $S$ are \n",
    "$S_k$ (*make sure you agree*).\n",
    "* These diagonal elements of $S$, namely the $S_k$, are known as **singular values**.  They are ordinarily arranged from largest to smallest.\n",
    "* $A A^\\top = U S^2 U^\\top$, which implies (a) $A A^\\top U = U S^2$.\n",
    "* $A^\\top A = V S^2 V^\\top$, which implies (b) $A^\\top A V = V S^2$.\n",
    "* If $m > n$, we can diagonalize $A^\\top A$ to find $S^2$ and $V$ and then find $U = A V S^{-1}$.  If $m < n$ we switch the roles of $U$ and $V$.\n",
    "\n",
    "Quick demonstations for you to do or questions to answer:\n",
    "* *Show from equations (a) and (b) that both $U$ and $V$ are orthogonal and that the eigenvalues, $\\{S_i^2\\}$, are all positive.*\n",
    "* *Show that if $m < n$ there will be at most $m$ non-zero singular values.* \n",
    "* *Show that the eigenvalues from equations (a) and (b) must be the same.*\n",
    "\n",
    "A key feature of the SVD for us here is that the sum of the squares of the singular values equals the total variance in $A$, i.e., the sum of squares of all matrix elements (squared Frobenius norm). Thus the size of each says how much of the total variance is accounted for by each singular vector.  We can create a truncated SVD containing a percentage (e.g., 99%) of the variance:\n",
    "\n",
    "$$\n",
    "  A_{ij} \\approx \\sum_{k=1}^{p} U_{ik} S_k V_{jk}\n",
    "$$\n",
    "\n",
    "where $p < n$ is the number of singular values included. Typically this is not a large number."
   ]
  },
  {
   "cell_type": "markdown",
   "metadata": {},
   "source": [
    "### Geometric interpretation of SVD\n",
    "\n",
    "- Geometric interpretation of SVD\n",
    "    - rotate orthogonal frame $V$ onto standard frame\n",
    "    - scale by $S$\n",
    "    - rotate standard frame into orthogonal frame $U$\n",
    "\n",
    "Consider the two-dimensional case: $\\mathbf{x_1} = (x_1, y_1)$, $\\mathbf{x_2} = (x_2, y_2)$.  We can fit these to an ellipse with major axis $a$ and minor axis $b$, made by stretching and rotating a unit circle.  Let $\\mathbf{x'} = (x', y')$ be the transformed coordinates:\n",
    "\n",
    "$$\n",
    "\\mathbf{x'} = \\mathbf{x} R M^{-1} \\quad\\mbox{with}\\quad \n",
    "    R = \\left(\\begin{array}{cc} \n",
    "               \\cos\\theta & \\sin\\theta \\\\\n",
    "               -\\sin\\theta & \\cos\\theta\n",
    "              \\end{array}\n",
    "        \\right)\n",
    "    \\quad\\mbox{and}\\quad    \n",
    "    M = \\left(\\begin{array}{cc} \n",
    "               a & 0 \\\\\n",
    "               0 & b\n",
    "              \\end{array}\n",
    "        \\right)\n",
    "$$\n",
    "\n",
    "In index form this is $x'_j = \\frac{1}{m_j} x_i R_{ij}$ or (clockwise rotation):\n",
    "\n",
    "$$\\begin{align}\n",
    "x' &= \\frac{x \\cos\\theta - y\\sin\\theta}{a} \\\\\n",
    "y' &= \\frac{x \\sin\\theta + y\\cos\\theta}{b} \\\\\n",
    "\\end{align}$$\n",
    "\n",
    "The equation for a unit circle $\\mathbf{x' \\cdot x'} = 1$ becomes\n",
    "\n",
    "$$\n",
    "(M^{-1} R^\\top \\mathbf{x}) \\cdot (\\mathbf{x} R M^{-1}) = 1.\n",
    "$$\n",
    "\n",
    "With $X = \\left(\\begin{array}{cc} \n",
    "               x_1 & y_1 \\\\\n",
    "               x_2 & y_2\n",
    "              \\end{array}\n",
    "        \\right)$ we find the matrix equation:\n",
    "        \n",
    "$$\n",
    "M^{-1} R^\\top X^\\top X R M^{-1}= 1.\n",
    "$$\n",
    "     \n",
    "which is just a rearrangement of the equation from above, $A^\\top A V = V S^2$.\n",
    "\n",
    "**Interpretation:** If $A$ is considered to be a collection of points, then the singular values are the axes of a least-squares fitted ellipsoid while $V$ is its orientation.  The matrix $U$ is the projection of each of the points in $A$ onto the axes.    \n",
    "\n",
    "\n"
   ]
  },
  {
   "cell_type": "markdown",
   "metadata": {},
   "source": [
    "### Solving matrix equations with SVD\n",
    "\n",
    "We can solve for $\\mathbf{x}$:\n",
    "\n",
    "$$\\begin{align}\n",
    "  A \\mathbf{x} &= b \\\\\n",
    "  \\mathbf{x} &= V S^{-1} U^\\top b\n",
    "\\end{align}$$\n",
    "\n",
    "or $x_i = \\sum_j \\frac{V_{ij}}{S_j} \\sum_k U_{kj} b_k$.  The value of this solution method is when we have an ill-conditioned matrix, meaning that the smallest eigenvalues are zero or close to zero.  We can throw away the corresponding components and all is well!  \n",
    "Comments:\n",
    "- If we have a non-square matrix, it still works. If $m\\times n$ with $m > n$, then only $n$ singular values.\n",
    "- If $m < n$, then only $n$ singular values.\n",
    "- This is like solving \n",
    "\n",
    "$$A^\\top A \\mathbf{x} = A^\\top b$$\n",
    "\n",
    "which is called the *normal equation*.  It produces the solution to $\\mathbf{x}$ that is closest to the origin, or\n",
    "\n",
    "$$\n",
    "  \\min_{\\mathbf{x}} |A\\mathbf x - b| \\;.\n",
    "$$\n",
    "\n",
    "**Task:** *prove these results (work backwards from the last equation as a least-squares minimization)*."
   ]
  },
  {
   "cell_type": "markdown",
   "metadata": {},
   "source": [
    "### Data reduction\n",
    "\n",
    "For machine learning (ML), there might be several hundred variables but the algorithms are made for a few dozen.  We can use SVD in ML for variable reduction.  This is also the connection to sloppy physics models.  In general, our matrix $A$ can be closely approximated by only keeping the largest of the singular values.  We'll see that visually below using images."
   ]
  },
  {
   "cell_type": "markdown",
   "metadata": {},
   "source": [
    "## Python imports"
   ]
  },
  {
   "cell_type": "code",
   "execution_count": null,
   "metadata": {},
   "outputs": [],
   "source": [
    "%matplotlib inline\n",
    "import numpy as np\n",
    "import matplotlib.pyplot as plt\n",
    "import scipy.linalg as la\n",
    "\n",
    "from sklearn.decomposition import PCA"
   ]
  },
  {
   "cell_type": "markdown",
   "metadata": {},
   "source": [
    "*Generate random matrices and verify the properties for SVD given above.  Check what happens when $m > n$.*"
   ]
  },
  {
   "cell_type": "code",
   "execution_count": null,
   "metadata": {},
   "outputs": [],
   "source": [
    "A = np.random.rand(9, 4)\n",
    "print('A = ', A)\n",
    "\n",
    "Ap = np.random.randn(5, 3)\n",
    "print('Ap = ', Ap)"
   ]
  },
  {
   "cell_type": "markdown",
   "metadata": {},
   "source": [
    "Check the definition of `scipy.linalg.svd` with shift-tab-tab."
   ]
  },
  {
   "cell_type": "code",
   "execution_count": null,
   "metadata": {},
   "outputs": [],
   "source": [
    "# SVD from scipy.linalg\n",
    "U, S, V_trans = la.svd(A, full_matrices=False)\n",
    "Up, Sp, Vp_trans = la.svd(Ap, full_matrices=False)"
   ]
  },
  {
   "cell_type": "code",
   "execution_count": null,
   "metadata": {},
   "outputs": [],
   "source": [
    "print(U.shape, S.shape, V_trans.shape)"
   ]
  },
  {
   "cell_type": "code",
   "execution_count": null,
   "metadata": {},
   "outputs": [],
   "source": [
    "# Transpose with T, matrix multiplication with @\n",
    "print(U.T @ U)"
   ]
  },
  {
   "cell_type": "code",
   "execution_count": null,
   "metadata": {
    "scrolled": true
   },
   "outputs": [],
   "source": [
    "# Here's one way to suppress small numbers from round-off error\n",
    "np.around(U.T @ U, decimals=15)"
   ]
  },
  {
   "cell_type": "code",
   "execution_count": null,
   "metadata": {},
   "outputs": [],
   "source": [
    "# Predict this one before evaluating!\n",
    "print(U @ U.T)"
   ]
  },
  {
   "cell_type": "markdown",
   "metadata": {},
   "source": [
    "Go on and check the other claimed properties.  \n",
    "\n",
    "For example, is $A = U S V^\\top$? (Note: you'll need to make $S$ a matrix with `np.diag(S)`.)"
   ]
  },
  {
   "cell_type": "code",
   "execution_count": null,
   "metadata": {},
   "outputs": [],
   "source": [
    "# Check the other properties, changing the matrix size and shapes.\n",
    "\n"
   ]
  },
  {
   "cell_type": "markdown",
   "metadata": {},
   "source": [
    "For a square matrix, compare the singular values in $S$ to the eigenvalues from `la.eig`.  What do you conclude?  Now try this for a symmetric matrix (note that a matrix plus its transpose is symmetric)."
   ]
  },
  {
   "cell_type": "markdown",
   "metadata": {},
   "source": [
    "## SVD applied to images for compression\n",
    "\n",
    "Read in `figs/elephant.jpg` as a gray-scale image. The image has $1066 \\times 1600$ values. Using SVD, recreate the image with a relative error of less than 0.5%. What is the relative size of the compressed image as a percentage?"
   ]
  },
  {
   "cell_type": "code",
   "execution_count": null,
   "metadata": {},
   "outputs": [],
   "source": [
    "from skimage import io\n",
    "\n",
    "img = io.imread('figs/elephant.jpg', as_gray=True)\n",
    "plt.imshow(img, cmap='gray');\n",
    "print('shape of img: ', img.shape)"
   ]
  },
  {
   "cell_type": "code",
   "execution_count": null,
   "metadata": {},
   "outputs": [],
   "source": [
    "# turn off axis\n",
    "plt.imshow(img, cmap='gray')\n",
    "plt.gca().set_axis_off()"
   ]
  },
  {
   "cell_type": "code",
   "execution_count": null,
   "metadata": {},
   "outputs": [],
   "source": [
    "# Do the svg\n",
    "U, S, Vt = la.svd(img, full_matrices=False)"
   ]
  },
  {
   "cell_type": "code",
   "execution_count": null,
   "metadata": {},
   "outputs": [],
   "source": [
    "# Check the shapes\n",
    "U.shape, S.shape, Vt.shape"
   ]
  },
  {
   "cell_type": "code",
   "execution_count": null,
   "metadata": {},
   "outputs": [],
   "source": [
    "# Check that we can recreate the image\n",
    "img_orig = U @ np.diag(S) @ Vt\n",
    "print(img_orig.shape)\n",
    "plt.imshow(img_orig, cmap='gray')\n",
    "plt.gca().set_axis_off()"
   ]
  },
  {
   "cell_type": "markdown",
   "metadata": {},
   "source": [
    "Here's how we can efficiently reduce the size of the matrices.  Our SVD should be sorted, so we are keeping only the largest singular values up to a point."
   ]
  },
  {
   "cell_type": "code",
   "execution_count": null,
   "metadata": {},
   "outputs": [],
   "source": [
    "# Pythonic way to figure out when we've accumulated 99.5% of the result\n",
    "k = np.sum(np.cumsum((S**2)/(S**2).sum()) <= 0.995)"
   ]
  },
  {
   "cell_type": "markdown",
   "metadata": {},
   "source": [
    "#### Aside: dissection of the Python statement to find the index for accumulation"
   ]
  },
  {
   "cell_type": "code",
   "execution_count": null,
   "metadata": {},
   "outputs": [],
   "source": [
    "test = np.array([5, 4, 3, 2, 1])\n",
    "threshold = 0.995\n",
    "print('initial matrix, in descending magnitude: ', test)\n",
    "print( 'fraction of total sum of squares: ', (test**2) / (test**2).sum() )\n",
    "print( 'cumulative fraction: ', np.cumsum((test**2) / (test**2).sum()) )\n",
    "print( 'mark entries as true if less than or equal to threshold: ',\n",
    "       (np.cumsum((test**2) / (test**2).sum()) <= threshold) )\n",
    "print( 'sum up the Trues: ',\n",
    "       np.sum(np.cumsum((test**2) / (test**2).sum()) <= threshold) )\n",
    "print( 'The last result is the index we are looking for.')"
   ]
  },
  {
   "cell_type": "code",
   "execution_count": null,
   "metadata": {},
   "outputs": [],
   "source": [
    "# Let's plot the eigenvalues and mark where k is\n",
    "fig = plt.figure(figsize=(8,6))\n",
    "ax = fig.add_subplot(1,1,1)\n",
    "ax.semilogy(S, color='blue', label='eigenvalues')\n",
    "ax.axvline(k, color='red', label='99.5% of the variance');\n",
    "ax.set_xlabel('eigenvalue number')\n",
    "ax.legend()\n",
    "fig.tight_layout()"
   ]
  },
  {
   "cell_type": "markdown",
   "metadata": {},
   "source": [
    "Now keep only the most significant eigenvalues (those up to k)."
   ]
  },
  {
   "cell_type": "code",
   "execution_count": null,
   "metadata": {},
   "outputs": [],
   "source": [
    "img2 = U[:,:k] @ np.diag(S[:k])@ Vt[:k, :]\n",
    "img2.shape"
   ]
  },
  {
   "cell_type": "code",
   "execution_count": null,
   "metadata": {},
   "outputs": [],
   "source": [
    "plt.imshow(img2, cmap='gray')\n",
    "plt.gca().set_axis_off();"
   ]
  },
  {
   "cell_type": "code",
   "execution_count": null,
   "metadata": {},
   "outputs": [],
   "source": [
    "k99 = np.sum(np.cumsum((S**2)/(S**2).sum()) <= 0.99)\n",
    "img99 = U[:,:k99] @ np.diag(S[:k99])@ Vt[:k99, :]"
   ]
  },
  {
   "cell_type": "code",
   "execution_count": null,
   "metadata": {},
   "outputs": [],
   "source": [
    "plt.imshow(img99, cmap='gray')\n",
    "plt.gca().set_axis_off();"
   ]
  },
  {
   "cell_type": "markdown",
   "metadata": {},
   "source": [
    "Let's try another interesting picture . . ."
   ]
  },
  {
   "cell_type": "code",
   "execution_count": null,
   "metadata": {},
   "outputs": [],
   "source": [
    "fraction_kept = 0.995\n",
    "\n",
    "def svd_shapes(U, S, V, k=None):\n",
    "    if k is None:\n",
    "        k = len(S)\n",
    "    U_shape = U[:,:k].shape\n",
    "    S_shape = S[:k].shape\n",
    "    V_shape = V[:,:k].shape\n",
    "    print(f'U shape: {U_shape}, S shape: {S_shape}, V shape: {V_shape}')\n",
    "\n",
    "\n",
    "img_orig = io.imread('figs/Dick_in_tailcoat.jpg')\n",
    "img = io.imread('figs/Dick_in_tailcoat.jpg', as_gray=True)\n",
    "\n",
    "U, S, V = la.svd(img)\n",
    "svd_shapes(U, S, V)\n",
    "\n",
    "k995 = np.sum(np.cumsum((S**2)/(S**2).sum()) <= fraction_kept)\n",
    "print(f'k995 = {k995}')\n",
    "img995 = U[:,:k995] @ np.diag(S[:k995])@ V[:k995, :]\n",
    "print(f'img995 shape = {img995.shape}')\n",
    "svd_shapes(U, S, V, k995)\n",
    "\n",
    "fig = plt.figure(figsize=(12,6))\n",
    "ax1 = fig.add_subplot(1,3,1)\n",
    "ax1.imshow(img_orig)\n",
    "ax1.set_axis_off()\n",
    "\n",
    "ax2 = fig.add_subplot(1,3,2)\n",
    "ax2.imshow(img, cmap='gray')\n",
    "ax2.set_axis_off()\n",
    "\n",
    "ax3 = fig.add_subplot(1,3,3)\n",
    "ax3.imshow(img995, cmap='gray')\n",
    "ax3.set_axis_off()\n",
    "\n",
    "fig.tight_layout()"
   ]
  },
  {
   "cell_type": "code",
   "execution_count": null,
   "metadata": {},
   "outputs": [],
   "source": [
    "# Let's plot the eigenvalues and mark where k is\n",
    "fig = plt.figure(figsize=(8,6))\n",
    "ax = fig.add_subplot(1,1,1)\n",
    "ax.semilogy(S, color='blue', label='eigenvalues')\n",
    "ax.axvline(k995, color='red', label='99.5% of the variance');\n",
    "ax.set_xlabel('eigenvalue number')\n",
    "ax.legend()\n",
    "fig.tight_layout()"
   ]
  },
  {
   "cell_type": "markdown",
   "metadata": {},
   "source": [
    "### Things to do:\n",
    "\n",
    "* Get your own figure and duplicate these results.  Then play!\n",
    "* As you reduce the percentage of the variance kept, what features of the image are retained and what are lost?\n",
    "* See how small you can make the percentage and still recognize the picture.\n",
    "* How is this related to doing a spatial Fourier transform, applying a low-pass filter, and transforming back.  (Experts: try this!)"
   ]
  },
  {
   "cell_type": "code",
   "execution_count": null,
   "metadata": {},
   "outputs": [],
   "source": []
  },
  {
   "cell_type": "markdown",
   "metadata": {},
   "source": [
    "## Covariance, PCA and SVD"
   ]
  },
  {
   "cell_type": "code",
   "execution_count": null,
   "metadata": {},
   "outputs": [],
   "source": [
    "%matplotlib inline\n",
    "import matplotlib.pyplot as plt\n",
    "import numpy as np\n",
    "import scipy.linalg as la\n",
    "\n",
    "np.set_printoptions(precision=3)"
   ]
  },
  {
   "cell_type": "markdown",
   "metadata": {},
   "source": [
    "Recall the formula for covariance\n",
    "\n",
    "$$\n",
    "\\text{Cov}(X, Y) = \\frac{\\sum_{i=1}^n(X_i - \\bar{X})(Y_i - \\bar{Y})}{n-1}\n",
    "$$\n",
    "\n",
    "where $\\text{Cov}(X, X)$ is the sample variance of $X$."
   ]
  },
  {
   "cell_type": "code",
   "execution_count": null,
   "metadata": {},
   "outputs": [],
   "source": [
    "def cov(x, y):\n",
    "    \"\"\"Returns covariance of vectors x and y).\"\"\"\n",
    "    xbar = x.mean()\n",
    "    ybar = y.mean()\n",
    "    return np.sum((x - xbar)*(y - ybar))/(len(x) - 1)"
   ]
  },
  {
   "cell_type": "code",
   "execution_count": null,
   "metadata": {},
   "outputs": [],
   "source": [
    "X = np.random.random(10)\n",
    "Y = np.random.random(10)"
   ]
  },
  {
   "cell_type": "code",
   "execution_count": null,
   "metadata": {},
   "outputs": [],
   "source": [
    "np.array([[cov(X, X), cov(X, Y)], [cov(Y, X), cov(Y,Y)]])"
   ]
  },
  {
   "cell_type": "code",
   "execution_count": null,
   "metadata": {},
   "outputs": [],
   "source": [
    "np.cov(X, Y)  # check against numpy"
   ]
  },
  {
   "cell_type": "code",
   "execution_count": null,
   "metadata": {},
   "outputs": [],
   "source": [
    "# Extension to more variables is done in a pair-wise way\n",
    "Z = np.random.random(10)\n",
    "np.cov([X, Y, Z])"
   ]
  },
  {
   "cell_type": "markdown",
   "metadata": {},
   "source": [
    "### Eigendecomposition of the covariance matrix"
   ]
  },
  {
   "cell_type": "code",
   "execution_count": null,
   "metadata": {},
   "outputs": [],
   "source": [
    "# Zero mean but off-diagonal correlation matrix\n",
    "mu = [0,0]\n",
    "sigma = [[0.6,0.2],[0.2,0.2]]\n",
    "n = 1000\n",
    "x = np.random.multivariate_normal(mu, sigma, n).T\n",
    "plt.scatter(x[0,:], x[1,:], alpha=0.2);"
   ]
  },
  {
   "cell_type": "code",
   "execution_count": null,
   "metadata": {},
   "outputs": [],
   "source": [
    "# Find the covariance matrix of the matrix of points x\n",
    "A = np.cov(x)"
   ]
  },
  {
   "cell_type": "code",
   "execution_count": null,
   "metadata": {},
   "outputs": [],
   "source": [
    "# m = np.array([[1,2,3],[6,5,4]])\n",
    "# ms = m - m.mean(1).reshape(2,1)\n",
    "# np.dot(ms, ms.T)/2"
   ]
  },
  {
   "cell_type": "code",
   "execution_count": null,
   "metadata": {},
   "outputs": [],
   "source": [
    "# Find the eigenvalues and eigenvectors\n",
    "e, v = la.eigh(A)"
   ]
  },
  {
   "cell_type": "code",
   "execution_count": null,
   "metadata": {},
   "outputs": [],
   "source": [
    "fig = plt.figure(figsize=(6,6))\n",
    "ax = fig.add_subplot(1,1,1)\n",
    "ax.scatter(x[0,:], x[1,:], alpha=0.2)\n",
    "for e_, v_ in zip(e, v.T):\n",
    "    ax.plot([0, 3*e_*v_[0]], [0, 3*e_*v_[1]], 'r-', lw=2)\n",
    "ax.axis([-3,3,-3,3])\n",
    "ax.set_aspect(1)\n",
    "ax.set_title('Eigenvectors of covariance matrix scaled by eigenvalue.');"
   ]
  },
  {
   "cell_type": "markdown",
   "metadata": {},
   "source": [
    "### PCA (from Duke course)\n",
    "\n",
    "\"Principal Components Analysis\" (PCA) basically means to find and rank all the eigenvalues and eigenvectors of a covariance matrix. This is useful because high-dimensional data (with $p$ features) may have nearly all their variation in a small number of dimensions $k<p$, i.e. in the subspace spanned by the eigenvectors of the covariance matrix that have the $k$ largest eigenvalues. If we project the original data into this subspace, we can have a dimension reduction (from $p$ to $k$) with hopefully little loss of information.\n",
    "\n",
    "Numerically, PCA is typically done using SVD on the data matrix rather than eigendecomposition on the covariance matrix. Numerically, the condition number for working with the covariance matrix directly is the square of the condition number using SVD, so SVD minimizes errors.\""
   ]
  },
  {
   "cell_type": "markdown",
   "metadata": {},
   "source": [
    "For zero-centered vectors,\n",
    "\n",
    "\\begin{align}\n",
    "\\text{Cov}(X, Y) &= \\frac{\\sum_{i=1}^n(X_i - \\bar{X})(Y_i - \\bar{Y})}{n-1} \\\\\n",
    "  &= \\frac{\\sum_{i=1}^nX_iY_i}{n-1} \\\\\n",
    "  &= \\frac{XY^T}{n-1}\n",
    "\\end{align}\n",
    "\n",
    "and so the covariance matrix for a data set $X$ that has zero mean in each feature vector is just $XX^T/(n-1)$. \n",
    "\n",
    "In other words, we can also get the eigendecomposition of the covariance matrix from the positive semi-definite matrix $XX^T$."
   ]
  },
  {
   "cell_type": "markdown",
   "metadata": {},
   "source": [
    "Note: Here $x$ is a matrix of **row** vectors."
   ]
  },
  {
   "cell_type": "code",
   "execution_count": null,
   "metadata": {},
   "outputs": [],
   "source": [
    "X = np.random.random((5,4))\n",
    "X"
   ]
  },
  {
   "cell_type": "code",
   "execution_count": null,
   "metadata": {},
   "outputs": [],
   "source": [
    "Y = X - X.mean(axis=1)[:, None]  # eliminate the mean\n",
    "print(Y.mean(axis=1))"
   ]
  },
  {
   "cell_type": "code",
   "execution_count": null,
   "metadata": {},
   "outputs": [],
   "source": [
    "np.around(Y.mean(1), 5)"
   ]
  },
  {
   "cell_type": "code",
   "execution_count": null,
   "metadata": {},
   "outputs": [],
   "source": [
    "Y"
   ]
  },
  {
   "cell_type": "markdown",
   "metadata": {},
   "source": [
    "Check that the covariance matrix is unaffected by removing the mean:"
   ]
  },
  {
   "cell_type": "code",
   "execution_count": null,
   "metadata": {},
   "outputs": [],
   "source": [
    "np.cov(X)"
   ]
  },
  {
   "cell_type": "code",
   "execution_count": null,
   "metadata": {},
   "outputs": [],
   "source": [
    "np.cov(Y)"
   ]
  },
  {
   "cell_type": "code",
   "execution_count": null,
   "metadata": {},
   "outputs": [],
   "source": [
    "# Find the eigenvalue and eigenvectors\n",
    "e1, v1 = np.linalg.eig(np.dot(x, x.T)/(n-1))"
   ]
  },
  {
   "cell_type": "markdown",
   "metadata": {},
   "source": [
    "#### Principal components\n",
    "\n",
    "Principal components are simply the eigenvectors of the covariance matrix used as basis vectors. Each of the original data points is expressed as a linear combination of the principal components, giving rise to a new set of coordinates. "
   ]
  },
  {
   "cell_type": "code",
   "execution_count": null,
   "metadata": {
    "scrolled": true
   },
   "outputs": [],
   "source": [
    "# Check that we reproduce the previous result\n",
    "fig = plt.figure(figsize=(6,6))\n",
    "ax = fig.add_subplot(1,1,1)\n",
    "ax.scatter(x[0,:], x[1,:], alpha=0.2)\n",
    "for e_, v_ in zip(e1, v1.T):\n",
    "    ax.plot([0, 3*e_*v_[0]], [0, 3*e_*v_[1]], 'r-', lw=2)\n",
    "ax.axis([-3,3,-3,3]);\n",
    "ax.set_aspect(1)\n"
   ]
  },
  {
   "cell_type": "markdown",
   "metadata": {},
   "source": [
    "### Using SVD for PCA\n",
    "\n",
    "SVD is a decomposition of the data matrix $X = U S V^T$ where $U$ and $V$ are orthogonal matrices and $S$ is a diagonal matrix. \n",
    "\n",
    "Recall that the transpose of an orthogonal matrix is also its inverse, so if we multiply on the right by $X^T$, we get the following simplification\n",
    "\n",
    "\\begin{align}\n",
    "X &= U S V^T \\\\\n",
    "X X^T &= U S V^T (U S V^T)^T \\\\\n",
    " &= U S V^T V S U^T \\\\\n",
    " &= U S^2 U^T\n",
    "\\end{align}\n",
    "\n",
    "Compare with the eigendecomposition of a matrix $A = W \\Lambda W^{-1}$, we see that SVD gives us the eigendecomposition of the matrix $XX^T$, which as we have just seen, is basically a scaled version of the covariance for a data matrix with zero mean, with the eigenvectors given by $U$ and eigenvalues by $S^2$ (scaled by $n-1$).."
   ]
  },
  {
   "cell_type": "code",
   "execution_count": null,
   "metadata": {},
   "outputs": [],
   "source": [
    "u, s, v = np.linalg.svd(x)"
   ]
  },
  {
   "cell_type": "code",
   "execution_count": null,
   "metadata": {},
   "outputs": [],
   "source": [
    "# reproduce previous results yet again!\n",
    "e2 = s**2/(n-1)\n",
    "v2 = u\n",
    "plt.scatter(x[0,:], x[1,:], alpha=0.2)\n",
    "for e_, v_ in zip(e2, v2):\n",
    "    plt.plot([0, 3*e_*v_[0]], [0, 3*e_*v_[1]], 'r-', lw=2)\n",
    "plt.axis([-3,3,-3,3]);"
   ]
  },
  {
   "cell_type": "code",
   "execution_count": null,
   "metadata": {},
   "outputs": [],
   "source": [
    "v1 # from eigenvectors of covariance matrix"
   ]
  },
  {
   "cell_type": "code",
   "execution_count": null,
   "metadata": {},
   "outputs": [],
   "source": [
    "v2 # from SVD"
   ]
  },
  {
   "cell_type": "code",
   "execution_count": null,
   "metadata": {},
   "outputs": [],
   "source": [
    "e1 # from eigenvalues of covariance matrix"
   ]
  },
  {
   "cell_type": "code",
   "execution_count": null,
   "metadata": {},
   "outputs": [],
   "source": [
    "e2 # from SVD"
   ]
  },
  {
   "cell_type": "code",
   "execution_count": null,
   "metadata": {},
   "outputs": [],
   "source": []
  },
  {
   "cell_type": "markdown",
   "metadata": {
    "slideshow": {
     "slide_type": "slide"
    }
   },
   "source": [
    "## Exercises: covariance matrix manipulations in Python (taken from the Duke course)"
   ]
  },
  {
   "cell_type": "markdown",
   "metadata": {
    "slideshow": {
     "slide_type": "fragment"
    }
   },
   "source": [
    "Given the following covariance matrix\n",
    "```python\n",
    "A = np.array([[2,1],[1,4]])\n",
    "```\n",
    "use Python to do these basic tasks (that is, do not do them by hand but use `scipy.linalg` functions).\n",
    "\n",
    "1. Show that the eigenvectors of $A$ are orthogonal. \n",
    "1. What is the vector representing the first principal component direction? \n",
    "1. Find $A^{-1}$ without performing a matrix inversion. \n",
    "1. What are the coordinates of the data points (0, 1) and (1, 1) in the standard basis expressed as coordinates of the principal components? \n",
    "1. What is the proportion of variance explained if we keep only the projection onto the first principal component? \n",
    "\n",
    "We'll give you a headstart on the Python manipulations (you should take a look at the `scipy.linalg` documentation)."
   ]
  },
  {
   "cell_type": "code",
   "execution_count": null,
   "metadata": {
    "slideshow": {
     "slide_type": "fragment"
    }
   },
   "outputs": [],
   "source": [
    "A = np.array([[2,1],[1,4]])\n",
    "eigval, eigvec = la.eig(A)"
   ]
  },
  {
   "cell_type": "code",
   "execution_count": null,
   "metadata": {},
   "outputs": [],
   "source": []
  },
  {
   "cell_type": "markdown",
   "metadata": {},
   "source": [
    "- Find the matrix $A$ that results in rotating the standard vectors in $\\mathbb{R}^2$ by 30 degrees counter-clockwise and stretches $e_1$ by a factor of 3 and contracts $e_2$ by a factor of $0.5$. \n",
    "- What is the inverse of this matrix? How you find the inverse should reflect your understanding.\n",
    "\n",
    "The effects of the matrix $A$ and $A^{-1}$ are shown in the figure below:\n",
    "\n",
    "![image](figs/vecs.png)"
   ]
  },
  {
   "cell_type": "code",
   "execution_count": null,
   "metadata": {},
   "outputs": [],
   "source": []
  },
  {
   "cell_type": "markdown",
   "metadata": {},
   "source": [
    "We observe some data points $(x_i, y_i)$, and believe that an appropriate model for the data is that\n",
    "\n",
    "$$\n",
    "f(x) = ax^2 + bx^3 + c\\sin{x}\n",
    "$$\n",
    "\n",
    "with some added noise. Find optimal values of the parameters $\\beta = (a, b, c)$ that minimize $\\Vert y - f(x) \\Vert^2$\n",
    "\n",
    "1. using `scipy.linalg.lstsq` \n",
    "2. solving the normal equations $X^TX \\beta = X^Ty$ \n",
    "3. using `scipy.linalg.svd` \n",
    "\n",
    "In each case, plot the data and fitted curve using `matplotlib`.\n",
    "\n",
    "Data\n",
    "```\n",
    "x = array([ 3.4027718 ,  4.29209002,  5.88176277,  6.3465969 ,  7.21397852,\n",
    "        8.26972154, 10.27244608, 10.44703778, 10.79203455, 14.71146298])\n",
    "y = array([ 25.54026428,  29.4558919 ,  58.50315846,  70.24957254,\n",
    "        90.55155435, 100.56372833,  91.83189927,  90.41536733,\n",
    "        90.43103028,  23.0719842 ])\n",
    "```"
   ]
  },
  {
   "cell_type": "code",
   "execution_count": null,
   "metadata": {},
   "outputs": [],
   "source": [
    "x = np.array([ 3.4027718 ,  4.29209002,  5.88176277,  6.3465969 ,  7.21397852,\n",
    "        8.26972154, 10.27244608, 10.44703778, 10.79203455, 14.71146298])\n",
    "y = np.array([ 25.54026428,  29.4558919 ,  58.50315846,  70.24957254,\n",
    "        90.55155435, 100.56372833,  91.83189927,  90.41536733,\n",
    "        90.43103028,  23.0719842 ])"
   ]
  },
  {
   "cell_type": "code",
   "execution_count": null,
   "metadata": {},
   "outputs": [],
   "source": []
  }
 ],
 "metadata": {
  "celltoolbar": "Slideshow",
  "kernelspec": {
   "display_name": "Python 3",
   "language": "python",
   "name": "python3"
  },
  "language_info": {
   "codemirror_mode": {
    "name": "ipython",
    "version": 3
   },
   "file_extension": ".py",
   "mimetype": "text/x-python",
   "name": "python",
   "nbconvert_exporter": "python",
   "pygments_lexer": "ipython3",
   "version": "3.7.3"
  }
 },
 "nbformat": 4,
 "nbformat_minor": 2
}
