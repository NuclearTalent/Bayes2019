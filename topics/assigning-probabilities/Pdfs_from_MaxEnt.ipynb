{
 "cells": [
  {
   "cell_type": "markdown",
   "metadata": {},
   "source": [
    "# MaxEnt for deriving probability distributions"
   ]
  },
  {
   "cell_type": "markdown",
   "metadata": {},
   "source": [
    "Today we will derive some standard probability distribution by maximizing the entropy subject to constraints derived from information that we have."
   ]
  },
  {
   "cell_type": "markdown",
   "metadata": {},
   "source": [
    "## Example 1: the Gaussian"
   ]
  },
  {
   "cell_type": "markdown",
   "metadata": {},
   "source": [
    "First we take the constraint \n",
    "\\begin{equation}\n",
    "\\int_{-\\infty}^\\infty (x-\\mu)^2 p(x) dx=\\sigma^2.\n",
    "\\end{equation}\n",
    "\n",
    "We also have the normalization constraint:\n",
    "\\begin{equation}\n",
    "\\int_{-\\infty}^\\infty p(x) dx=1.\n",
    "\\end{equation}"
   ]
  },
  {
   "cell_type": "markdown",
   "metadata": {},
   "source": [
    "So we maximize:\n",
    "\n",
    "\\begin{equation}\n",
    "Q(p;\\lambda_0,\\lambda_1)=-\\int p(x)\\ln\\left(\\frac{p(x)}{m(x)}\\right) \\, dx + \\lambda_0 \\left(1-\\int p(x) dx\\right)+ \\lambda_1\\left(\\sigma^2 - \\int p(x) (x-\\mu)^2 dx\\right)\n",
    "\\end{equation}\n",
    "\n",
    "We will assume a uniform m(x)."
   ]
  },
  {
   "cell_type": "markdown",
   "metadata": {},
   "source": [
    "Step 1: differentiate with respect to p(x). What do you get?"
   ]
  },
  {
   "cell_type": "code",
   "execution_count": null,
   "metadata": {},
   "outputs": [],
   "source": []
  },
  {
   "cell_type": "markdown",
   "metadata": {},
   "source": [
    "Step 2: set the functional derivative equal to 0. Show that the solution is:\n",
    "\n",
    "\\begin{equation}\n",
    "p(x)={\\cal N} \\exp(-\\lambda_1 (x-\\mu)^2),\n",
    "\\end{equation}\n",
    "\n",
    "where ${\\cal N}=e^{-1-\\lambda_0}$."
   ]
  },
  {
   "cell_type": "code",
   "execution_count": null,
   "metadata": {},
   "outputs": [],
   "source": []
  },
  {
   "cell_type": "markdown",
   "metadata": {},
   "source": [
    "Step 3a: Now, we impose the constraints. First, use the fact that $\\int_{-\\infty}^{\\infty} \\exp(-y^2) \\, dy=\\sqrt{\\pi}$ to fix ${\\cal N}$."
   ]
  },
  {
   "cell_type": "code",
   "execution_count": null,
   "metadata": {},
   "outputs": [],
   "source": []
  },
  {
   "cell_type": "markdown",
   "metadata": {},
   "source": [
    "Step 3b: Second, compute $\\int_{-\\infty}^{\\infty} y^2 \\exp(-y^2) \\, dy$, and use the results to show $\\lambda=\\frac{1}{2 \\sigma^2}$."
   ]
  },
  {
   "cell_type": "markdown",
   "metadata": {},
   "source": [
    "## Example 2: the Poisson distribution"
   ]
  },
  {
   "cell_type": "markdown",
   "metadata": {},
   "source": [
    "Now we will take a constraint on the mean (first moment):\n",
    "\\begin{equation}\n",
    "\\int_{0}^\\infty x p(x) dx=\\mu.\n",
    "\\end{equation}\n",
    "\n",
    "As usual, we also have the normalization constraint:\n",
    "\\begin{equation}\n",
    "\\int_{0}^\\infty p(x) dx=1.\n",
    "\\end{equation}"
   ]
  },
  {
   "cell_type": "markdown",
   "metadata": {},
   "source": [
    "So we maximize:\n",
    "\n",
    "\\begin{equation}\n",
    "Q(p;\\lambda_0,\\lambda_1)=-\\int p(x)\\ln\\left(\\frac{p(x)}{m(x)}\\right) \\, dx + \\lambda_0 \\left(1-\\int p(x) dx\\right)+ \\lambda_1\\left(\\mu - \\int p(x) x dx\\right)\n",
    "\\end{equation}\n",
    "\n",
    "We will again assume a uniform m(x)."
   ]
  },
  {
   "cell_type": "markdown",
   "metadata": {},
   "source": [
    "Go through the steps as you did in the first example."
   ]
  },
  {
   "cell_type": "code",
   "execution_count": null,
   "metadata": {},
   "outputs": [],
   "source": []
  },
  {
   "cell_type": "markdown",
   "metadata": {},
   "source": [
    " You should obtain the Poisson distribution:\n",
    "\n",
    "\\begin{equation}\n",
    "p(x)=\\frac{1}{\\mu} \\exp\\left(-\\frac{x}{\\mu}\\right)\n",
    "\\end{equation}"
   ]
  },
  {
   "cell_type": "markdown",
   "metadata": {},
   "source": [
    "## Third example: log normal distribution"
   ]
  },
  {
   "cell_type": "markdown",
   "metadata": {},
   "source": [
    "Suppose the constraint is on the variance of $\\ln x$, i.e.,\n",
    "\\begin{equation}\n",
    "\\int p(x)\\left[\\log\\left(\\frac{x}{x_0}\\right)\\right]^2 dx=\\sigma^2\n",
    "\\end{equation}"
   ]
  },
  {
   "cell_type": "markdown",
   "metadata": {},
   "source": [
    "Change variables to $y=\\log(x/x_0)$. What is the constraint in terms of $y$?"
   ]
  },
  {
   "cell_type": "markdown",
   "metadata": {},
   "source": [
    "Now maximize the entropy, subject to this constraint, and, of course, the normalization constraint."
   ]
  },
  {
   "cell_type": "code",
   "execution_count": null,
   "metadata": {},
   "outputs": [],
   "source": []
  },
  {
   "cell_type": "markdown",
   "metadata": {},
   "source": [
    "You should obtain the log-normal distribution:\n",
    "\n",
    "\\begin{equation}\n",
    "p(x)=\\frac{1}{\\sqrt{2 \\pi} x \\sigma} \\exp\\left[-\\frac{\\ln^2(x/x_0)}{2 \\sigma^2}\\right].\n",
    "\\end{equation}"
   ]
  },
  {
   "cell_type": "markdown",
   "metadata": {},
   "source": [
    "When do you think it would make sense to say that we know the variance of $\\log(x)$, rather than the variance of $x$ itself?"
   ]
  },
  {
   "cell_type": "code",
   "execution_count": null,
   "metadata": {},
   "outputs": [],
   "source": []
  },
  {
   "cell_type": "markdown",
   "metadata": {},
   "source": [
    "## Fourth example: l1-norm"
   ]
  },
  {
   "cell_type": "markdown",
   "metadata": {},
   "source": [
    "Finally, we take the constraint on the mean absolute value of $x-\\mu$: $\\langle |x-\\mu| \\rangle=\\epsilon$."
   ]
  },
  {
   "cell_type": "markdown",
   "metadata": {},
   "source": [
    "This constraint is written as:\n",
    "\n",
    "\\begin{equation}\n",
    "\\int p(x) \\, |x - \\mu| \\, dx=\\epsilon.\n",
    "\\end{equation}"
   ]
  },
  {
   "cell_type": "markdown",
   "metadata": {},
   "source": [
    "Use the uniform measure, and go through the steps once again, to show that:\n",
    "\\begin{equation}\n",
    "p(x)=\\frac{1}{2 \\epsilon} \\exp\\left(-\\frac{|x-\\mu|}{\\epsilon}\\right).\n",
    "\\end{equation}"
   ]
  },
  {
   "cell_type": "code",
   "execution_count": null,
   "metadata": {},
   "outputs": [],
   "source": []
  }
 ],
 "metadata": {
  "kernelspec": {
   "display_name": "Python 3",
   "language": "python",
   "name": "python3"
  },
  "language_info": {
   "codemirror_mode": {
    "name": "ipython",
    "version": 3
   },
   "file_extension": ".py",
   "mimetype": "text/x-python",
   "name": "python",
   "nbconvert_exporter": "python",
   "pygments_lexer": "ipython3",
   "version": "3.7.2"
  }
 },
 "nbformat": 4,
 "nbformat_minor": 2
}
