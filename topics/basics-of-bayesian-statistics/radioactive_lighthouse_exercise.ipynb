{
 "cells": [
  {
   "cell_type": "markdown",
   "metadata": {},
   "source": [
    "# Radioactive lighthouse problem\n",
    "\n",
    "Goal: Explore a classic problem from Gull (by way of Sivia's book with some tweaks).\n",
    "\n",
    "<div style=\"float:left;\"><img src=\"radioactive_lighthouse_problem_figure.png\" width=300px></div>\n",
    "\n",
    "In the figure, a radioactive source that emits gamma rays randomly in time but uniformly in angle is placed at $(x_0, y_0)$.  The gamma rays are detected on the $x$-axis and these positions are saved, $x_k$, $k=1,2,\\cdots, N$.  Given these observed positions, the problem is to estimate the location of the source.\n",
    "\n",
    "Initially we'll assume that we know that $y_0 = 1$ (in whatever length units we are implicitly using), so our goal is to estimate $x_0$.  We introduce the angle $\\theta$ between the $\\gamma$ ray and the $y$-axis (with $\\theta = 0$ meaning the gamma ray is detected at $x_0$).\n",
    "\n",
    "Refs:\n",
    "* D.S. Sivia, *Data Analysis, A Bayesian Tutorial*\n",
    "* S.F. Gull, *Bayesian Inductive Inference and Maximum Entropy*\n",
    "\n",
    "$% Some LaTeX definitions we'll use.\n",
    "\\newcommand{\\pr}{\\textrm{p}}\n",
    "\\newcommand{\\xmax}{x_{0,\\textrm{max}}}\n",
    "\\newcommand{\\xmin}{x_{0,\\textrm{min}}}\n",
    "\\newcommand{\\Nmax}{N_{\\textrm{max}}}$\n",
    "\n",
    "**Answer the questions in** *italics*. **Check with your neighbors and ask for help if you get stuck or are unsure.**"
   ]
  },
  {
   "cell_type": "markdown",
   "metadata": {},
   "source": [
    "1. Claim: in the $\\pr(\\cdot|\\cdot)$ notation, our goal is to find the posterior pdf $\\pr(x_0 | \\{x_k\\}, y_0)$.  *How would you translate this posterior to words?*\n",
    "<br>\n",
    "<br>\n",
    "<br>"
   ]
  },
  {
   "cell_type": "markdown",
   "metadata": {},
   "source": [
    "2. *By Bayes' theorem, how is this posterior related to $\\pr(\\{x_k\\} | x_0, y_0)$, $\\pr(x_0 | y_0)$, and $\\pr(\\{x_k\\}|y_0)$?*\n",
    "<br>\n",
    "<br>\n",
    "<br>"
   ]
  },
  {
   "cell_type": "markdown",
   "metadata": {},
   "source": [
    "3. Claim: because the denominator pdf in 2. is independent of $x_0$, it is just a normalization factor for $\\pr(x_0 | \\{x_k\\}, y_0)$, so we don't need to calculate it explicitly.  *Do you understand this?  What good is an unnormalized posterior $\\pr(x_0 | \\{x_k\\}, y_0)$?*\n",
    "<br>\n",
    "<br>\n",
    "<br>"
   ]
  },
  {
   "cell_type": "markdown",
   "metadata": {},
   "source": [
    "4. Let's take for the prior pdf $\\pr(x_0 | y_0)$ that\n",
    "<br>\n",
    "$$\\pr(x_0 | y_0) = \\pr(x_0) = \\frac{1}{|\\xmax - \\xmin|} \n",
    "   \\quad\\mbox{for}\\ \\xmax < x_0 < \\xmin $$\n",
    "<br>   \n",
    "and zero elsewhere.  \n",
    "<br>\n",
    "<i>What are we assuming?  Why is this more plausible than letting $x_0$ be anything? Why do we assume a constant pdf?  Is this pdf normalized?</i>\n",
    "<br>\n",
    "<br>\n",
    "<br>"
   ]
  },
  {
   "cell_type": "markdown",
   "metadata": {},
   "source": [
    "5. *If we assume that the $x_k$s are mutually independent, then how is $\\pr(\\{x_k\\}|x_0, y_0)$ simplified?  Is this a justifiable assumption?*\n",
    "<br>\n",
    "<br>\n",
    "<br>\n",
    "\n"
   ]
  },
  {
   "cell_type": "markdown",
   "metadata": {},
   "source": [
    "6. *Show that for a particular $k$,* \n",
    "<br>\n",
    "$$ \\pr(x_k|x_0, y_0) = \\frac{y_0}{\\pi} \\frac{1}{y_0^2 + (x_k - x_0)^2} \\;, $$\n",
    "<br>\n",
    "<i>given that the angular distribution from $\\theta_k$ is uniform from $-\\pi/2$ to $\\pi/2$, so $\\pr(\\theta_k|x_0,y_0) = 1/\\pi$, and also that</i>\n",
    "<br><br>\n",
    "$$ \\pr(\\theta_k|x_0, y_0)\\, d\\theta_k = \\pr(x_k | x_0, y_0)\\, dx_k \\;.$$ \n",
    "<br>\n",
    "<i>Why is the latter true?</i>\n",
    "<br>\n",
    "<br>\n",
    "<br>\n",
    "<br>\n",
    "<br>\n",
    "<br>"
   ]
  },
  {
   "cell_type": "markdown",
   "metadata": {},
   "source": [
    "7. Ok, now we're ready to see what the estimates for $x_0$ look like. Use the following code to generate a set of random $x$ points for a Cauchy distribution.  *Look up the Stats documentation for a Cauchy distribution (google \"scipy stats cauchy\") to verify it is the same function derived above (note the use of `loc` and `scale`).  Run it a few times to see the fluctuations in the distribution.* <br>\n",
    "*What can you say about the tails of this distribution compared to your experience with Gaussian distributions?*\n",
    "<br>\n",
    "<br>\n",
    "<br>\n",
    "<br>"
   ]
  },
  {
   "cell_type": "code",
   "execution_count": null,
   "metadata": {},
   "outputs": [],
   "source": [
    "%matplotlib inline   \n",
    "\n",
    "import numpy as np\n",
    "\n",
    "import scipy.stats as stats\n",
    "from scipy.stats import cauchy, uniform\n",
    "\n",
    "import matplotlib.pyplot as plt\n",
    "import seaborn as sns; sns.set() # for plot formatting\n",
    "#sns.set_context(\"talk\")\n"
   ]
  },
  {
   "cell_type": "code",
   "execution_count": null,
   "metadata": {
    "scrolled": false
   },
   "outputs": [],
   "source": [
    "# True location of the radioactive source\n",
    "x0_true = 1.\n",
    "y0_true = 1.\n",
    "\n",
    "# Generate num_pts random numbers distributed according to dist and plot \n",
    "num_pts = 512\n",
    "x_pts = np.arange(num_pts)\n",
    "\n",
    "# Distribution knowing where the source is: scipy.stats.cauchy(loc, scale)\n",
    "dist = cauchy(x0_true, y0_true)\n",
    "dist_pts = dist.rvs(num_pts)  \n",
    "\n",
    "# Make some plots!\n",
    "fig = plt.figure(figsize=(15,5))\n",
    "\n",
    "# First plot all the points, letting it autoscale the counts\n",
    "ax_1 = fig.add_subplot(1,3,1)\n",
    "ax_1.scatter(x_pts, dist_pts)  \n",
    "\n",
    "# Repeat but zoom in to near the origin\n",
    "ax_2 = fig.add_subplot(1,3,2)\n",
    "ax_2.scatter(x_pts, dist_pts)\n",
    "ax_2.set_ylim(-10.,10.)\n",
    "\n",
    "# Finally make a zoomed-in histogram\n",
    "ax_3 = fig.add_subplot(1,3,3)\n",
    "out = ax_3.hist(dist_pts, bins=np.arange(-10., 10., 0.2))\n",
    "\n",
    "# Print out the numerical limits (max and min)\n",
    "print('maximum = ', np.amax(dist_pts))\n",
    "print('minimum = ', np.amin(dist_pts))\n",
    "\n",
    "fig.tight_layout()"
   ]
  },
  {
   "cell_type": "markdown",
   "metadata": {},
   "source": [
    "8. Now you'll repeat the same graphs, but this time generate the distribution of points starting with a uniform distribution in angle between $-\\pi/2$ and $\\pi/2$. *In particular, at the `###`, write the formula for `dist_pts` in terms of `theta_dist` and `x0_true`, `y0_true`.*\n",
    "<br>"
   ]
  },
  {
   "cell_type": "code",
   "execution_count": null,
   "metadata": {
    "scrolled": false
   },
   "outputs": [],
   "source": [
    "# True location of the radioactive source\n",
    "x0_true = 1.\n",
    "y0_true = 1.\n",
    "\n",
    "# Generate num_pts random numbers distributed according to dist and plot \n",
    "num_pts = 512\n",
    "x_pts = np.arange(num_pts)\n",
    "\n",
    "# Uniform distribution in theta: uniform(a,b) in [a, a+b]\n",
    "theta_dist = uniform(-np.pi/2., np.pi)\n",
    "\n",
    "#dist_pts_alt = ### Fill in formula here for x_k points\n",
    "\n",
    "        \n",
    "# Make some plots!\n",
    "fig = plt.figure(figsize=(15,5))\n",
    "\n",
    "# First plot all the points, letting it autoscale the counts\n",
    "ax_1 = fig.add_subplot(1,3,1)\n",
    "ax_1.scatter(x_pts, dist_pts_alt)  \n",
    "\n",
    "# Repeat but zoom in to near the origin\n",
    "ax_2 = fig.add_subplot(1,3,2)\n",
    "ax_2.scatter(x_pts, dist_pts_alt)\n",
    "ax_2.set_ylim(-10.,10.)\n",
    "\n",
    "# Finally make a zoomed-in histogram\n",
    "ax_3 = fig.add_subplot(1,3,3)\n",
    "out = ax_3.hist(dist_pts_alt, bins=np.arange(-10., 10., 0.2))\n",
    "\n",
    "# Print out the numerical limits (max and min)\n",
    "print('maximum = ', np.amax(dist_pts_alt))\n",
    "print('minimum = ', np.amin(dist_pts_alt))\n",
    "\n",
    "fig.tight_layout()"
   ]
  },
  {
   "cell_type": "markdown",
   "metadata": {},
   "source": [
    "Before moving on, let's do some more plotting of histograms with different numbers of samples to build some intuition.  We define a plotting function first so it is easy to plot several histograms all at once. Run it several times to see the nature of the fluctuations."
   ]
  },
  {
   "cell_type": "code",
   "execution_count": null,
   "metadata": {},
   "outputs": [],
   "source": [
    "def dist_hist_plot(ax, name, x_dist, dist, num_samples, bin_width, \n",
    "                   x_label=None):\n",
    "    \"\"\"\n",
    "       Plot a pdf and histogram of samples with specified list of points to \n",
    "       be plotted, which sets the range of the histogram, and width of bins.\n",
    "       \n",
    "       Parameters:\n",
    "       -----------\n",
    "       ax (matplotlib axis): axis for the histogram\n",
    "       name (string): description of \n",
    "       x_dist (ndarray): points to be plotted \n",
    "       dist (scipy.stats distribution): pdf to make draws from\n",
    "       num_samples (int): number of draws to make from dist\n",
    "       bin_width (float): width of each bin to be plotted\n",
    "       x_label (string): label for the x-axis\n",
    "    \"\"\"\n",
    "    samples = dist.rvs(size=num_samples)   # generate num_samples draws\n",
    "    bin_bounds = np.arange(x_dist[0], x_dist[-1], bin_width)\n",
    "    count, bins, ignored = ax.hist(samples, bins=bin_bounds, density=True,\n",
    "                                   color='blue', alpha=0.7)\n",
    "    ax.plot(x_dist, dist.pdf(x_dist), linewidth=2, color='r')\n",
    "    title_string = name + f'  samples = {num_samples:d}'\n",
    "    ax.set_title(title_string)\n",
    "    ax.set_xlim(x_dist[0], x_dist[-1])\n",
    "    if x_label:\n",
    "        ax.set_xlabel(x_label)\n",
    "    \n",
    "x_max = 10.    \n",
    "x_dist = np.linspace(-x_max, x_max, 500)\n",
    "name = rf'cauchy $x_0=${x0_true:1.1f}, $y_0=${y0_true:1.1f}'\n",
    "fig = plt.figure(figsize=(15,5))\n",
    "bin_width = 0.5\n",
    "x_label = r'$x_k$'\n",
    "\n",
    "num_samples = 100\n",
    "cauchy_dist = stats.cauchy(x0_true, y0_true)\n",
    "ax_1 = fig.add_subplot(1, 3, 1)\n",
    "dist_hist_plot(ax_1, name, x_dist, cauchy_dist, num_samples, \n",
    "               bin_width, x_label)\n",
    "\n",
    "num_samples = 1000\n",
    "cauchy_dist = stats.cauchy(x0_true, y0_true)\n",
    "ax_2 = fig.add_subplot(1, 3, 2)\n",
    "dist_hist_plot(ax_2, name, x_dist, cauchy_dist, num_samples, \n",
    "               bin_width, x_label)\n",
    "\n",
    "num_samples = 10000\n",
    "cauchy_dist = stats.cauchy(x0_true, y0_true)\n",
    "ax_3 = fig.add_subplot(1, 3, 3)\n",
    "dist_hist_plot(ax_3, name, x_dist, cauchy_dist, num_samples, \n",
    "               bin_width, x_label)\n",
    "\n",
    "fig.tight_layout()"
   ]
  },
  {
   "cell_type": "markdown",
   "metadata": {},
   "source": [
    "## Define and plot the posterior for $x_0$\n",
    "\n",
    "9. In this section the posterior for $x_0$ is calculated and plotted for different numbers of data.  The prior is taken to be a uniform PDF from $-4$ to $4$ (we really don't believe it is bigger than that but otherwise we don't know what it is). For each $\\Nmax$, besides plotting the posterior for $x_0$, we calculate the mean of the posterior (denoted $\\langle x_0\\rangle$) and the mean of the set of $\\Nmax$ points (denoted $\\overline x_0$). "
   ]
  },
  {
   "cell_type": "code",
   "execution_count": null,
   "metadata": {},
   "outputs": [],
   "source": [
    "def log_prior(x0, y0_true, x_min=-4., x_max=+4.):\n",
    "    \"\"\"\n",
    "    Log uniform prior from x_min to x_max.  Not normalized!\n",
    "    \"\"\"\n",
    "    if (x0 > x_min) and (x0 < x_max):\n",
    "        return 0.\n",
    "    else:\n",
    "        return -np.inf    # log(0) = -inf\n",
    "    \n",
    "def log_likelihood(x0, y0_true, dist_pts, N_max): \n",
    "    \"\"\"\n",
    "    Log likelihood for the first N_max points of the dist_pts array,\n",
    "    assuming independent.  Not normalized!  \n",
    "    \"\"\"\n",
    "    L_pts = -np.log(y0_true**2 + (dist_pts[0:N_max] - x0)**2)\n",
    "    return sum(L_pts)\n",
    "\n",
    "def posterior_calc(x0_pts, y0_true, dist_pts, N_max, x0_min=-4., x0_max=+4.):\n",
    "    \"\"\"\n",
    "    Calculate the posterior for a set of x0_pts given y0 (y0_true) and a\n",
    "    list of N_max x_k observations (dist_pts).\n",
    "    \"\"\"    \n",
    "    log_L_pts = [log_likelihood(x0, y0_true, dist_pts, N_max) \\\n",
    "                 for x0 in x0_pts]\n",
    "    log_L_pts -= np.amax(log_L_pts)  # subtract maximum of log likelihood\n",
    "\n",
    "    log_prior_pts = [log_prior(x0, y0_true, x0_min, x0_max) \\\n",
    "                     for x0 in x0_pts]\n",
    "\n",
    "    posterior_pts = np.exp(log_prior_pts + log_L_pts)\n",
    "    return posterior_pts\n",
    "  \n",
    "def stats(dist_pts, N_max, x0_pts, posterior_pts):\n",
    "    \"\"\"\n",
    "    Given an array of N_max observed detection points (dist_pts) and a\n",
    "    posterior pdf (posterior_pts) for an array of x0 points (x0_pts), return\n",
    "    the mean of dist_pts and the mode and mean of the posterior. \n",
    "    \"\"\"\n",
    "    mean_dist = np.mean(dist_pts[0:N_max])\n",
    "    max_posterior = x0_pts[np.argmax(posterior_pts)]\n",
    "    mean_posterior = np.sum(x0_pts * posterior_pts) / np.sum(posterior_pts)\n",
    "    return mean_dist, max_posterior, mean_posterior"
   ]
  },
  {
   "cell_type": "markdown",
   "metadata": {},
   "source": [
    "Some questions about the implementation through these functions:\n",
    "\n",
    "* *If you wanted `log_prior` to return the normalized log prior, how would you modify the function?*\n",
    " <br><br><br>\n",
    "* *Why is the log likelihood adjusted in `posterior_calc`?*\n",
    " <br><br><br>\n",
    "* *Why is it not necessary to normalize the posterior?  Would it not be easier just to normalize it?*\n",
    " <br><br><br>\n"
   ]
  },
  {
   "cell_type": "code",
   "execution_count": null,
   "metadata": {},
   "outputs": [],
   "source": [
    "# True location of the radioactive source\n",
    "x0_true = 1.\n",
    "y0_true = 1.\n",
    "\n",
    "# Distribution knowing where the source is: scipy.stats.cauchy(loc, scale)\n",
    "num_pts = 512  # number of observations\n",
    "dist = cauchy(x0_true, y0_true)   # sampling a Cauchy distribution directly\n",
    "dist_pts = dist.rvs(num_pts)      # generate {x_k} for k = 1 to num_pts \n",
    "\n",
    "# Choose the set of N_max to be plotted (multiple of 3, up to num_pts)\n",
    "N_max_values = [1, 2, 4, 8, 16, 64, 128, 256, 512]  \n",
    "\n",
    "x0_min = -4.  # lower bound for prior\n",
    "x0_max = +4.  # upper bound for prior\n",
    "x0_pts = np.arange(-4.5, 4.5, 0.01)\n",
    "\n",
    "fig = plt.figure(figsize=(14, 2.5*len(N_max_values)/3))\n",
    "\n",
    "# Step through counter (k) for each N_max entry in N_max_values\n",
    "for k, N_max in enumerate(N_max_values):  \n",
    "    posterior_pts = posterior_calc(x0_pts, y0_true, dist_pts, N_max)\n",
    "    mean_dist, max_posterior, mean_posterior = stats(dist_pts, N_max,\n",
    "                                                     x0_pts, posterior_pts)\n",
    " \n",
    "    # now make the plots: 3 to a row\n",
    "    ax = fig.add_subplot(len(N_max_values)/3, 3, k+1)  \n",
    "    ax.set_xlabel(r'source position $x_0$') \n",
    "    #ax.set_yticks([])  # turn off the plotting of ticks on the y-axis\n",
    "    ax.plot(x0_pts, posterior_pts, color='blue')\n",
    "    ax.set_title(rf'$N_{{\\rm max}} = {N_max:d}$')\n",
    "    ax.axvline(mean_dist, 0., 1.1, color='black', linestyle=\"--\", lw=2)\n",
    "    ax.axvline(mean_posterior, 0., 1.1, color='red', linestyle=\"--\", lw=2)\n",
    "    ax.set_xlim(np.min(x0_pts), np.max(x0_pts))\n",
    "    \n",
    "    stats_title = rf'$\\overline{{x}}_0 = {mean_dist:.2f}$' + '\\n' \\\n",
    "                  rf'$\\langle x_0 \\rangle = {mean_posterior:.2f}$'\n",
    "    ax.annotate(stats_title, \n",
    "                xy=(0.05,0.85), xycoords='axes fraction', \n",
    "                horizontalalignment='left',verticalalignment='top')\n",
    "\n",
    "figure_title = rf'Radioactive lighthouse problem (true $x_0 = {x0_true:.1f}$)'\n",
    "fig.suptitle(figure_title, y=1.02, fontsize=14)\n",
    "\n",
    "fig.tight_layout()"
   ]
  },
  {
   "cell_type": "markdown",
   "metadata": {},
   "source": [
    "*Run the cell above several times for each $\\Nmax$ and record the results in the table:*\n"
   ]
  },
  {
   "cell_type": "code",
   "execution_count": null,
   "metadata": {},
   "outputs": [],
   "source": [
    "%%html\n",
    "\n",
    "<style> \n",
    " table { width:80% !important; }\n",
    " table td, table th, table tr {border: 2px solid black !important; \n",
    "                               text-align:center !important;\n",
    "                               font-size: 20px;}\n",
    "</style>"
   ]
  },
  {
   "cell_type": "markdown",
   "metadata": {},
   "source": [
    "|     $\\Nmax$     | 1: $\\langle x_0\\rangle$ | 1: $\\overline x_0$ | 2: $\\langle x_0\\rangle$ | 2: $\\overline x_0$ | 3: $\\langle x_0\\rangle$ | 3: $\\overline x_0$ |  \n",
    "| :-------------: | :----------: | :-----------: | :-----------: | :-------------: | :----------: | :-----------: | \n",
    "|  1           |   &nbsp;     |    &nbsp;    |    &nbsp;   |   &nbsp;     |    &nbsp;    |    &nbsp;   |\n",
    "|  2           |   &nbsp;     |    &nbsp;    |    &nbsp;   |   &nbsp;     |    &nbsp;    |    &nbsp;   |\n",
    "|  4           |   &nbsp;     |    &nbsp;    |    &nbsp;   |   &nbsp;     |    &nbsp;    |    &nbsp;   |\n",
    "|  16          |   &nbsp;     |    &nbsp;    |    &nbsp;   |   &nbsp;     |    &nbsp;    |    &nbsp;   |\n",
    "|  64          |   &nbsp;     |    &nbsp;    |    &nbsp;   |   &nbsp;     |    &nbsp;    |    &nbsp;   |\n",
    "|  256         |   &nbsp;     |    &nbsp;    |    &nbsp;   |   &nbsp;     |    &nbsp;    |    &nbsp;   |\n"
   ]
  },
  {
   "cell_type": "code",
   "execution_count": null,
   "metadata": {},
   "outputs": [],
   "source": []
  },
  {
   "cell_type": "markdown",
   "metadata": {},
   "source": [
    "10. *What are your observations about the posterior for $x_0$ as a function of $\\Nmax$? Which mean (from the set of $\\Nmax$ points or from the posterior) is the better estimate?*\n",
    "<br>\n",
    "<br>\n",
    "<br>"
   ]
  },
  {
   "cell_type": "markdown",
   "metadata": {},
   "source": [
    "11. *Why does the Central Limit Theorem appear to fail?*  (The mean from the set of $\\Nmax$ samples does not tend to the true $x_0$.)\n",
    "<br>\n",
    "<br>\n",
    "<br>\n",
    "<br>"
   ]
  },
  {
   "cell_type": "markdown",
   "metadata": {},
   "source": [
    "Additional tasks:\n",
    "* Convert to sample the distribution using MCMC.\n",
    "* Generalize to find the joint posterior of $x_0$ and $y_0$.\n",
    "* "
   ]
  },
  {
   "cell_type": "code",
   "execution_count": null,
   "metadata": {},
   "outputs": [],
   "source": []
  }
 ],
 "metadata": {
  "kernelspec": {
   "display_name": "Python 3",
   "language": "python",
   "name": "python3"
  },
  "language_info": {
   "codemirror_mode": {
    "name": "ipython",
    "version": 3
   },
   "file_extension": ".py",
   "mimetype": "text/x-python",
   "name": "python",
   "nbconvert_exporter": "python",
   "pygments_lexer": "ipython3",
   "version": "3.6.8"
  }
 },
 "nbformat": 4,
 "nbformat_minor": 2
}
