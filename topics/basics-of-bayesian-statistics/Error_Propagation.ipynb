{
 "cells": [
  {
   "cell_type": "markdown",
   "metadata": {},
   "source": [
    "# Error propagation using Bayesian methods"
   ]
  },
  {
   "cell_type": "markdown",
   "metadata": {},
   "source": [
    "For a Bayesian, everything is a probability distribution. This means that the way to do \"error propagation\" is to figure out how to combine two probability distributions to generate a third one."
   ]
  },
  {
   "cell_type": "markdown",
   "metadata": {},
   "source": [
    "Specifically, suppose that $Z=f(X,Y)$, and that we already know the pdf ${\\rm pr}(X,Y|I)$. We want to compute ${\\rm pr}(Z|I)$. Using marginalization introduce the variables $X$ and $Y$."
   ]
  },
  {
   "cell_type": "code",
   "execution_count": null,
   "metadata": {},
   "outputs": [],
   "source": []
  },
  {
   "cell_type": "markdown",
   "metadata": {},
   "source": [
    "Now use the relationship between $Z$ and $X,Y$ to rewrite ${\\rm pr}(Z|X,Y)$. The result should be a formula involving the function $f$ and the joint pdf ${\\rm pr}(X,Y|I)$. "
   ]
  },
  {
   "cell_type": "code",
   "execution_count": null,
   "metadata": {},
   "outputs": [],
   "source": []
  },
  {
   "cell_type": "markdown",
   "metadata": {},
   "source": [
    "We will call this the \"master formula\" for combining $X$ and $Y$."
   ]
  },
  {
   "cell_type": "markdown",
   "metadata": {},
   "source": [
    "## Example 1: $Z=X+Y$, independent Gaussians"
   ]
  },
  {
   "cell_type": "markdown",
   "metadata": {},
   "source": [
    "Now write down Gaussian pdfs for $X$ and $Y$. Choose the means to be $x_0$ and $y_0$ respectively, and the standard deviations $\\sigma_x$ and $\\sigma_y$. "
   ]
  },
  {
   "cell_type": "code",
   "execution_count": null,
   "metadata": {},
   "outputs": [],
   "source": []
  },
  {
   "cell_type": "markdown",
   "metadata": {},
   "source": [
    "Put your results into the master formula, choose $f(X,Y)=X+Y$, and then combine the Gaussians. "
   ]
  },
  {
   "cell_type": "code",
   "execution_count": null,
   "metadata": {},
   "outputs": [],
   "source": []
  },
  {
   "cell_type": "markdown",
   "metadata": {},
   "source": [
    "Complete the square, and so obtain the result that the pdf for Z is:\n",
    "\n",
    "\\begin{equation}\n",
    "{\\rm pr}(Z|I)=\\frac{1}{\\sqrt{2 \\pi} \\sigma_z} \\exp\\left[-\\frac{(Z-z_0)^2}{2 \\sigma_z^2}\\right].\n",
    "\\end{equation}\n",
    "with $z_0=x_0 + y_0$ and $\\sigma_z^2=\\sigma_x^2 + \\sigma_y^2$."
   ]
  },
  {
   "cell_type": "markdown",
   "metadata": {},
   "source": [
    "## Example 2: $Z=X+Y$, $X$ and $Y$ are correlated Gaussians "
   ]
  },
  {
   "cell_type": "markdown",
   "metadata": {},
   "source": [
    "Now re-do the analysis for the case that $X$ and $Y$ are not independent. Specifically, choose:\n",
    "\n",
    "\\begin{equation}\n",
    "{\\rm pr}(X,Y|I)=\\frac{1}{\\sqrt{2 \\pi \\, {\\rm det} C}} \\exp\\left[-\\frac{1}{2}(X \\, \\, \\,Y)C^{-1}\\begin{pmatrix}\n",
    "X\\\\\n",
    "Y\n",
    "\\end{pmatrix}\\right],\n",
    "\\end{equation}\n",
    "with \n",
    "\\begin{equation}\n",
    "C \\equiv \\begin{pmatrix} \\sigma_x^2 &  \\rho \\sigma_x \\sigma_y\\\\\n",
    "\\rho \\sigma_x \\sigma_y & \\sigma_y^2 \\end{pmatrix}.\n",
    "\\end{equation}"
   ]
  },
  {
   "cell_type": "markdown",
   "metadata": {},
   "source": [
    "Before we get too far into combining $X$ and $Y$ you should check what happens if you set $\\rho=0$ here.....does the answer make sense?"
   ]
  },
  {
   "cell_type": "code",
   "execution_count": null,
   "metadata": {},
   "outputs": [],
   "source": []
  },
  {
   "cell_type": "markdown",
   "metadata": {},
   "source": [
    "Put the above equation for ${\\rm pr}(X,Y|I)$ into the master formula for the case $f(X,Y)=X+Y$ and compute the pdf for $Z$."
   ]
  },
  {
   "cell_type": "code",
   "execution_count": null,
   "metadata": {},
   "outputs": [],
   "source": []
  },
  {
   "cell_type": "markdown",
   "metadata": {},
   "source": [
    "Check the limit $\\rho=0$. Do you get back what you got in Example 1?"
   ]
  },
  {
   "cell_type": "code",
   "execution_count": null,
   "metadata": {},
   "outputs": [],
   "source": []
  },
  {
   "cell_type": "markdown",
   "metadata": {},
   "source": [
    "What happens in thew limit $\\rho=1$? What about $\\rho=-1$? Do those results make sense?"
   ]
  },
  {
   "cell_type": "markdown",
   "metadata": {},
   "source": [
    "## Example 3: $\\vec{Z}=f(\\vec{X},\\vec{Y})$, independent multi-variate Gaussians for ${\\rm pr}(\\vec{X}|I)$ and ${\\rm pr}(\\vec{Y}|I)$."
   ]
  },
  {
   "cell_type": "markdown",
   "metadata": {},
   "source": [
    "Now take \n",
    "\n",
    "\\begin{eqnarray}\n",
    "{\\rm pr}(\\vec{X}|I) \\propto \\exp\\left[-\\frac{1}{2} (\\vec{X} - \\vec{\\mu_X})^T \\Sigma_X^{-1}  (\\vec{X} - \\vec{\\mu_X})\\right];\\\\\n",
    "{\\rm pr}(\\vec{Y}|I) \\propto \\exp\\left[-\\frac{1}{2} (\\vec{Y} - \\vec{\\mu_Y})^T \\Sigma_Y^{-1}  (\\vec{Y} - \\vec{\\mu_Y})\\right].\n",
    "\\end{eqnarray} \n",
    "A short way to notate this is \n",
    "\n",
    "\\begin{equation}\n",
    "X \\sim N(\\vec{\\mu}_X,\\Sigma_X); Y \\sim N(\\vec{\\mu}_Y,\\Sigma_Y).\n",
    "\\end{equation}\n",
    "\n",
    "I.e., we specify that they are given by normal distributions with particular (vector) means and covariance matrices."
   ]
  },
  {
   "cell_type": "markdown",
   "metadata": {},
   "source": [
    "Go back to the master formula and generalize it for a vector $\\vec{Z}$ that is related to $\\vec{X}$ and $\\vec{Y}$ as $\\vec{Z}=f(\\vec{X},\\vec{Y})$. What do you get? This should not take longer than 90 seconds. :)"
   ]
  },
  {
   "cell_type": "code",
   "execution_count": null,
   "metadata": {},
   "outputs": [],
   "source": []
  },
  {
   "cell_type": "markdown",
   "metadata": {},
   "source": [
    "Take $\\vec{Z}=a \\vec{X} + b \\vec{Y}$ with $a$ and $b$ real scalars. Complete the square, do the integral and show that:\n",
    "\n",
    "\\begin{equation}\n",
    "\\vec{Z} \\sim N(a \\vec{\\mu}_X + b \\vec{\\mu}_Y, a^2 \\Sigma_X + b^2 \\Sigma_Y)\n",
    "\\end{equation}"
   ]
  },
  {
   "cell_type": "code",
   "execution_count": null,
   "metadata": {},
   "outputs": [],
   "source": []
  },
  {
   "cell_type": "markdown",
   "metadata": {},
   "source": [
    "Comment on this result for a=b=1."
   ]
  },
  {
   "cell_type": "code",
   "execution_count": null,
   "metadata": {},
   "outputs": [],
   "source": []
  },
  {
   "cell_type": "markdown",
   "metadata": {},
   "source": [
    "Comment on this result for a=1, b=-1, i.e. the case $\\vec{Z}=\\vec{X}-\\vec{Y}$."
   ]
  },
  {
   "cell_type": "code",
   "execution_count": null,
   "metadata": {},
   "outputs": [],
   "source": []
  }
 ],
 "metadata": {
  "kernelspec": {
   "display_name": "Python 3",
   "language": "python",
   "name": "python3"
  },
  "language_info": {
   "codemirror_mode": {
    "name": "ipython",
    "version": 3
   },
   "file_extension": ".py",
   "mimetype": "text/x-python",
   "name": "python",
   "nbconvert_exporter": "python",
   "pygments_lexer": "ipython3",
   "version": "3.6.8"
  }
 },
 "nbformat": 4,
 "nbformat_minor": 2
}
