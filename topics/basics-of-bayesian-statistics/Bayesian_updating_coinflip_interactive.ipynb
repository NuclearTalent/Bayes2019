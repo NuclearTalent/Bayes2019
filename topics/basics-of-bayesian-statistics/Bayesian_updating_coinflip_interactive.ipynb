{
 "cells": [
  {
   "cell_type": "markdown",
   "metadata": {},
   "source": [
    "# Bayesian Statistics for Physicists: Interactive Bayesian updating"
   ]
  },
  {
   "cell_type": "markdown",
   "metadata": {},
   "source": [
    "## <a name=\"Python\">Python/Jupyter set up</a>"
   ]
  },
  {
   "cell_type": "code",
   "execution_count": 1,
   "metadata": {
    "code_folding": []
   },
   "outputs": [],
   "source": [
    "%matplotlib inline   "
   ]
  },
  {
   "cell_type": "code",
   "execution_count": 2,
   "metadata": {},
   "outputs": [],
   "source": [
    "import numpy as np\n",
    "\n",
    "import scipy.stats as stats\n",
    "from scipy.stats import norm, uniform\n",
    "\n",
    "import matplotlib.pyplot as plt\n",
    "\n",
    "import ipywidgets as widgets\n",
    "from ipywidgets import HBox, VBox, Layout, Tab, Label, Checkbox, Button\n",
    "from ipywidgets import FloatSlider, IntSlider, Play, Dropdown, HTMLMath \n",
    "\n",
    "from IPython.display import display\n",
    "\n",
    "import seaborn as sns\n",
    "sns.set()\n",
    "sns.set_context(\"talk\")\n"
   ]
  },
  {
   "cell_type": "markdown",
   "metadata": {},
   "source": [
    "## <a name=\"Updating\">Bayesian updating examples</a>\n",
    "\n",
    "$  \\newcommand{\\thetavec}{\\boldsymbol{\\theta}} \\newcommand{\\pr}{\\textrm{p}}$\n",
    "Recall Bayes' theorem with $\\thetavec$ the vector of parameters we seek and information $I$ is kept implicit.\n",
    "\n",
    "$$\n",
    "  \\overbrace{\\pr(\\thetavec \\mid \\textrm{data},I)}^{\\textrm{posterior}} =\n",
    "  \\frac{\\color{red}{\\overbrace{\\pr(\\textrm{data} \\mid \\thetavec,I)}^{\\textrm{likelihood}}} \\times\n",
    "   \\color{blue}{\\overbrace{\\pr(\\thetavec \\mid I)}^{\\textrm{prior}}}}\n",
    "   {\\color{darkgreen}{\\underbrace{\\pr(\\textrm{data} \\mid I)}_{\\textrm{evidence}}}}\n",
    "$$\n",
    "\n",
    "If we view the prior as the initial information we have about $\\thetavec$, summarized as a probability density function, then Bayes' theorem tells us how to <em>update</em> that information after observing some data: this is the posterior pdf.  Here we will give some examples of how this plays out when tossing coins.\n"
   ]
  },
  {
   "cell_type": "markdown",
   "metadata": {},
   "source": [
    "### Determining the bias of a coin"
   ]
  },
  {
   "cell_type": "markdown",
   "metadata": {},
   "source": [
    "The idea here is that we are observing successive flips of a coin, which is a proxy for any process that has a binary outcome.  There is a definite true probability for getting heads, which we'll label $p_h$, but we don't know what it is.  We start with a preconceived notion of the probability expressed in terms of a prior pdf for $p_h$, i.e., $\\pr(p_h)$.  With each flip of the coin, we have more information, so our goal is to <em>update</em> our expectation of $p_h$, meaning we want the posterior $\\pr(p_h \\mid \\mbox{# tosses, # heads})$. "
   ]
  },
  {
   "cell_type": "markdown",
   "metadata": {},
   "source": [
    "#### Main code for coin-flipping UI"
   ]
  },
  {
   "cell_type": "code",
   "execution_count": 3,
   "metadata": {
    "code_folding": []
   },
   "outputs": [],
   "source": [
    "# Initial values (can be changed by widgets)\n",
    "n_trials_max = 5000          # maximum number of coin tosses\n",
    "prob_heads = 0.4             # p_h, the true probability of a heads\n",
    "x = np.linspace(0, 1, 301)   # mesh for posterior plots (enough so smooth)\n",
    "\n",
    "class Data():\n",
    "    \"\"\"Class to hold the array of heads and tails (1s and 0s) outcomes.\"\"\"\n",
    "    def __init__(self, prob_heads=0.5, n_trials_max=5000):\n",
    "        self._data = self.generate_data(prob_heads, n_trials_max)\n",
    "        \n",
    "    def generate_data(self, prob_heads, n_trials_max):\n",
    "        \"\"\"Generate an array of heads or tails, 1 or 0, for n_trials_max\n",
    "           independent tosses according to the Bernoulli distribution.\"\"\"\n",
    "        self._data = stats.bernoulli.rvs(prob_heads, size=n_trials_max)\n",
    "    \n",
    "    def heads_in_data_to_N(self, N):\n",
    "        \"\"\"Count how many heads in the first N elements of the data.\"\"\"\n",
    "        return self._data[:N].sum()\n",
    "\n",
    "coin_data = Data(prob_heads, n_trials_max)    \n",
    "    \n",
    "def update_plot(N=0, jump=1, recalculate_data=True, \n",
    "                prob_heads=0.5, n_trials_max=5000,\n",
    "                alpha_1=1., beta_1=1.,\n",
    "                alpha_2=30., beta_2=30.,\n",
    "                alpha_3=0.2, beta_3=0.3\n",
    "               ):\n",
    "    \"\"\"\n",
    "    Make a new plot based on the current widget settings for the input\n",
    "    parameters.\n",
    "    \"\"\"  \n",
    "    \n",
    "    font_size = 18\n",
    "    plt.rcParams.update({'font.size': font_size})\n",
    "    \n",
    "    fig = plt.figure(figsize=(12,5))\n",
    "    ax = fig.add_subplot(1, 1, 1)\n",
    "\n",
    "    if recalculate_data:\n",
    "        coin_data.generate_data(prob_heads, n_trials_max)\n",
    "        recalculate_data_w.value = False\n",
    "\n",
    "    heads = coin_data.heads_in_data_to_N(N)   # add up the 1s (= # of heads)\n",
    "    # update using the conjugate prior, which is a beta pdf\n",
    "    y_1 = stats.beta.pdf(x, alpha_1 + heads, beta_1 + N - heads)    \n",
    "    y_2 = stats.beta.pdf(x, alpha_2 + heads, beta_2 + N - heads)   \n",
    "    y_3 = stats.beta.pdf(x, alpha_3 + heads, beta_3 + N - heads)   \n",
    "\n",
    "    # default y_3 distribution has two high max at endpoints for plot\n",
    "    y_max = np.max([y_1.max(), y_2.max()])  \n",
    "    \n",
    "    line1, = ax.plot(x, y_1, label=\"uniform prior\", color=\"blue\")\n",
    "    ax.fill_between(x, 0, y_1, color=\"blue\", alpha=0.1)\n",
    "    line2, = ax.plot(x, y_2, label=\"informative prior\", color=\"red\")\n",
    "    ax.fill_between(x, 0, y_2, color=\"red\", alpha=0.1)\n",
    "    line3, = ax.plot(x, y_3, label=\"anti prior\", color=\"green\")\n",
    "    ax.fill_between(x, 0, y_3, color=\"green\", alpha=0.1)\n",
    "     \n",
    "    ax.set_xlabel(\"$p_h$, probability of heads\") \n",
    "    ax.set_yticks([])  # turn off the plotting of ticks on the y-axis\n",
    "    ax.axvline(prob_heads, 0, 1.1*y_max, color=\"k\", linestyle=\"--\", lw=2)\n",
    "    ax.annotate(f'observe {N:d} tosses,\\n {heads:d} heads', \n",
    "                xy=(0.05,0.85), xycoords='axes fraction', \n",
    "                horizontalalignment='left',verticalalignment='top')\n",
    "    leg = ax.legend(loc='upper right')\n",
    "    leg.get_frame().set_alpha(0.4)\n",
    "    ax.autoscale(tight=True)\n",
    "\n",
    "    \n",
    "################### begin: text for help tabs ##################\n",
    "# In HTML (could move this to an external file!)\n",
    "overview_text = \\\n",
    "   r\"\"\"<p>Here we explore Bayesian updating for a coin flip. There is help \n",
    "          available under the other tabs.</p>  \n",
    "          <ul>\n",
    "            <li>Bayes theorem tab: find out about Bayesian updating.\n",
    "            <li>Toss coin tab: find out what the controls do.\n",
    "            <li>Priors tab: change the three initial priors.\n",
    "            <li>Setup tab: change how the plots are made.\n",
    "          </ul>      \n",
    "    \"\"\" \n",
    "Bayes_text = \\\n",
    "    r\"\"\"\n",
    "    <p>Recall Bayes' theorem with $\\thetavec$ the vector of parameters \n",
    "    we seek and information $I$ is kept implicit.</p>\n",
    "\n",
    "    $$\n",
    "     \\newcommand{\\thetavec}{\\boldsymbol{\\theta}}\n",
    "     \\overbrace{p(\\thetavec \\mid \\textrm{data},I)}^{\\textrm{posterior}} =\n",
    "     \\frac{\\color{red}{\\overbrace{p(\\textrm{data} \n",
    "     \\mid \\thetavec,I)}^{\\textrm{likelihood}}} \\times\n",
    "      \\color{blue}{\\overbrace{p(\\thetavec \\mid I)}^{\\textrm{prior}}}}\n",
    "      {\\color{darkgreen}{\\underbrace{p(\\textrm{data} \n",
    "         \\mid I)}_{\\textrm{evidence}}}}\n",
    "   $$\n",
    "\n",
    "    <p>If we view the prior as the initial information we have about \n",
    "     $\\thetavec$, summarized as a probability density function, \n",
    "     then Bayes' theorem tells us how to <em>update</em> that \n",
    "     information after observing some data: this is the posterior pdf.  \n",
    "     Here we will look at an example of how this plays out in practice:\n",
    "     flipping a (biased) coin.</p>     \n",
    "\n",
    "    <br>\n",
    "\n",
    "    <p>The idea here is that we are observing successive flips of a coin, \n",
    "    which is a proxy for any process that has a binary outcome.  \n",
    "    There is a definite true probability for getting heads, \n",
    "    which we'll label $p_h$, but we don't know what it is.  \n",
    "    We start with a preconceived notion of the probability expressed \n",
    "    in terms of a prior pdf for $p_h$, i.e., $p(p_h)$.  \n",
    "    With each flip of the coin, we have more information, so our goal is \n",
    "    to <em>update</em> our expectation of $p_h$, meaning we want the \n",
    "    posterior $p(p_h\\mid \\mbox{# tosses, # heads})$.</p> \n",
    "\n",
    "   \"\"\"\n",
    "\n",
    "toss_coin_text = \\\n",
    "    r\"\"\"\n",
    "    The graph shows three posteriors that result from three choices for\n",
    "    the prior (see the \"Priors\" tab for details) for the number of coin\n",
    "    tosses and observed heads shown at the upper left. The true probability\n",
    "    of a heads, $p_h$, is indicated by a dashed vertical line.\n",
    "    <ul>\n",
    "      <li>The \"Next\" button advances the number of coin tosses by the\n",
    "        amount shown after \"Jump\".\n",
    "      <li>The \"Jump\" pulldown is used to set how many observations are\n",
    "       made with each press of the \"Next\" button.\n",
    "      <li>The \"Reset\" button sets the number of observations back to zero.\n",
    "      <li>The probability of heads $p_h$ can be adjusted between 0 and\n",
    "      1 using the slider.\n",
    "    </ul>\n",
    "    \"\"\"\n",
    "\n",
    "setup_text = \\\n",
    "    r\"\"\"\n",
    "    Select the maximum number of trials possible.  The calculations will\n",
    "    simply stop if you try to go higher.\n",
    "    \"\"\"\n",
    "\n",
    "initial_text = \\\n",
    "    r\"\"\"\n",
    "    The graph shows three posteriors that result from three choices for\n",
    "    the prior (set under the \"Priors\" tab) for the number of coin\n",
    "    tosses and observed heads shown at the upper left. The true probability\n",
    "    of a heads, $p_h$, is indicated by a dashed vertical line.\n",
    "    Press \"Next\" to make observations, \"Reset\" to go back to zero.\n",
    "    \"\"\"\n",
    "initial_text_w = HTMLMath(value=initial_text)\n",
    "\n",
    "priors_text = \\\n",
    "    r\"\"\"\n",
    "    Hyperparameters for several different priors (all beta distributions).\n",
    "    Default prior 1 ($\\alpha_1 = 1$, $\\beta_1 = 1$) is uniform in [0,1].\n",
    "    Default prior 2 ($\\alpha_2 = 30$, $\\beta_2 = 30$) is concentrated \n",
    "    near 0.5 with very small tails.\n",
    "    Defalt prior 3 ($\\alpha_3 = .2$, $\\beta_3 = .2$) is peaked at the ends, \n",
    "    but allows for probability everywhere.\n",
    "    \"\"\"\n",
    "priors_text_w = HTMLMath(value=priors_text)\n",
    "################### end: text for help tabs ##################\n",
    "    \n",
    "    \n",
    "    \n",
    "    \n",
    "################### begin: definitions of widgets ##################\n",
    "recalculate_data_w = Checkbox(value=True)    \n",
    "prob_heads_w = FloatSlider(value=prob_heads, min=0., max=1., step=0.05,\n",
    "                           description=r'true $p_h$:',\n",
    "                           continuous_update=False)\n",
    "n_trials_max_w = IntSlider(value=n_trials_max, min=100, max=10000, step=100,\n",
    "                           description='max # trials:',\n",
    "                           continuous_update=False)\n",
    " \n",
    "N_w = IntSlider(value=0, min=0, max=n_trials_max, step=1,\n",
    "                continuous_update=False)\n",
    "next_button_w = Button(description='Next', disabled=False,\n",
    "                       layout=Layout(width='80px'), button_style='', \n",
    "                       tooltip='Increment number of trials by jump')\n",
    "reset_button_w = Button(description='Reset', disabled=False,\n",
    "                        layout=Layout(width='80px'), button_style='', \n",
    "                        tooltip='Reset number of trials to zero')\n",
    "\n",
    "jump_w = Dropdown(description='Jump:',\n",
    "                  layout=Layout(width='150px'),\n",
    "                  options=['1', '10', '100', '1000'],\n",
    "                  value='1',\n",
    "                  continuos_update=False,\n",
    "                  disabled=False,)\n",
    "\n",
    "alpha_1_w = FloatSlider(value=1., min=0., max=2., step=0.1,\n",
    "                           description=r'$\\alpha_1$:',\n",
    "                           continuous_update=False)\n",
    "alpha_1_w.style.handle_color = 'blue'\n",
    "\n",
    "alpha_2_w = FloatSlider(value=30., min=5., max=200., step=5.,\n",
    "                           description=r'$\\alpha_2$:',\n",
    "                           continuous_update=False)\n",
    "alpha_2_w.style.handle_color = 'red'\n",
    "alpha_3_w = FloatSlider(value=0.2, min=0., max=1., step=0.1,\n",
    "                           description=r'$\\alpha_3$:',\n",
    "                           continuous_update=False)\n",
    "alpha_3_w.style.handle_color = 'green'\n",
    "beta_1_w = FloatSlider(value=1., min=0.1, max=2., step=0.1,\n",
    "                           description=r'$\\beta_1$:',\n",
    "                           continuous_update=False)\n",
    "beta_1_w.style.handle_color = 'blue'\n",
    "beta_2_w = FloatSlider(value=30., min=5., max=200., step=5.,\n",
    "                           description=r'$\\beta_2$:',\n",
    "                           continuous_update=False)\n",
    "beta_2_w.style.handle_color = 'red'\n",
    "beta_3_w = FloatSlider(value=0.2, min=0., max=1., step=0.1,\n",
    "                           description=r'$\\beta_3$:',\n",
    "                           continuous_update=False)\n",
    "beta_3_w.style.handle_color = 'green'\n",
    "\n",
    "# Widgets for the help section, which are HTMLMath boxes in a Tab widget\n",
    "help_overview_w = HTMLMath(value=overview_text)\n",
    "help_Bayes_w = HTMLMath(value=Bayes_text)\n",
    "help_toss_coin_w = HTMLMath(value=toss_coin_text)\n",
    "help_priors_w = HTMLMath(value=priors_text)\n",
    "help_setup_w = HTMLMath(value=setup_text)\n",
    "\n",
    "################### end: definitions of widgets ##################\n",
    "\n",
    "################### begin: explicit widget callbacks ##################\n",
    "def update_N(b):\n",
    "    \"\"\"Increment the number of trials N by the Jump value\"\"\"\n",
    "    N_w.value += int(jump_w.value)\n",
    "    \n",
    "def reset_N(b):\n",
    "    \"\"\"Reset the number of trials N to zero\"\"\"\n",
    "    N_w.value = 0\n",
    "    \n",
    "def update_prob_heads(b):\n",
    "    \"\"\"Change the value of prob_heads and regenerate data.\"\"\"\n",
    "    recalculate_data_w.value = True\n",
    "    N_w.max = n_trials_max_w.value\n",
    "\n",
    "next_button_w.on_click(update_N)\n",
    "reset_button_w.on_click(reset_N)\n",
    " \n",
    "prob_heads_w.observe(update_prob_heads, 'value')    \n",
    "n_trials_max_w.observe(update_prob_heads, 'value')    \n",
    "\n",
    "################### end: explicit widget callbacks ##################\n",
    "\n",
    "\n",
    "# Organize the help as Tabs (which will be itself under the Help Tab)\n",
    "help_max_height = '500px'\n",
    "help_tab = Tab(children=[help_overview_w, help_Bayes_w, help_toss_coin_w, \n",
    "                         help_priors_w, help_setup_w], \n",
    "               layout=Layout(width='95%', max_height=help_max_height))\n",
    "help_tab.set_title(0, 'Overview')\n",
    "help_tab.set_title(1, 'Bayes Theorem')\n",
    "help_tab.set_title(2, 'Toss Coin')\n",
    "help_tab.set_title(3, 'Priors')\n",
    "help_tab.set_title(4, 'Set-up')\n",
    "    \n",
    "# Boxes of widgets that will go into the top-level tabs\n",
    "textbox0 = HBox([initial_text_w])\n",
    "hbox0 = HBox([next_button_w, jump_w, reset_button_w, prob_heads_w])\n",
    "textbox1 = HBox([priors_text_w])\n",
    "hbox1a = HBox([alpha_1_w, alpha_2_w, alpha_3_w])\n",
    "hbox1b = HBox([beta_1_w, beta_2_w, beta_3_w])\n",
    "hbox2 = HBox([n_trials_max_w])\n",
    "hbox3 = HBox([help_tab])\n",
    "\n",
    "# We'll set up Tabs to organize the controls.  The Tab contents are declared\n",
    "#  as tab0, tab1, ... (probably should make this a list) and the overall Tab\n",
    "#  is called tab (so its children are tab0, tab1, ...).\n",
    "tab_height = '70px'  # Fixed minimum height for all tabs. Specify another way?\n",
    "tab0 = VBox([textbox0, hbox0], layout=Layout(min_height=tab_height))\n",
    "tab1 = VBox([textbox1, hbox1a, hbox1b], layout=Layout(min_height=tab_height))\n",
    "tab2 = VBox([hbox2], layout=Layout(min_height=tab_height))\n",
    "tab3 = VBox([hbox3], layout=Layout(min_height=tab_height))\n",
    "\n",
    "tab = Tab(children=[tab0, tab1, tab2, tab3])\n",
    "tab.set_title(0, 'Toss Coin')\n",
    "tab.set_title(1, 'Priors')\n",
    "tab.set_title(2, 'Set-up')\n",
    "tab.set_title(3, 'Help')\n",
    "\n",
    "plot_out = widgets.interactive_output(update_plot,\n",
    "                                      dict(\n",
    "                                           N=N_w,\n",
    "                                           jump=jump_w,\n",
    "                                           recalculate_data=recalculate_data_w,\n",
    "                                           prob_heads=prob_heads_w,\n",
    "                                           n_trials_max=n_trials_max_w,\n",
    "                                           alpha_1=alpha_1_w, beta_1=beta_1_w,\n",
    "                                           alpha_2=alpha_2_w, beta_2=beta_2_w,\n",
    "                                           alpha_3=alpha_3_w, beta_3=beta_3_w,\n",
    "                                      )\n",
    "                                     )\n",
    "\n",
    "UI_box = VBox([tab, plot_out])"
   ]
  },
  {
   "cell_type": "markdown",
   "metadata": {},
   "source": [
    "#### User-interface for coin-flipping \n",
    "\n",
    "Take a look at the information under the `Help` tab to find out about what the controls do, what the priors are, etc. "
   ]
  },
  {
   "cell_type": "code",
   "execution_count": 4,
   "metadata": {
    "scrolled": false
   },
   "outputs": [
    {
     "data": {
      "application/vnd.jupyter.widget-view+json": {
       "model_id": "caff9cb7495b49f49d3215897aab2275",
       "version_major": 2,
       "version_minor": 0
      },
      "text/plain": [
       "VBox(children=(Tab(children=(VBox(children=(HBox(children=(HTMLMath(value='\\n    The graph shows three posteri…"
      ]
     },
     "metadata": {},
     "output_type": "display_data"
    }
   ],
   "source": [
    "display(UI_box)   "
   ]
  },
  {
   "cell_type": "markdown",
   "metadata": {},
   "source": [
    "Questions and tasks relating to priors and dealing with uncertainty: \n",
    "* *What prior would you choose? How does this affect how long it takes you to arrive at the correct conclusion?* Note that the answer to this question may be $p_H$ dependent.\n",
    "* *What would your standard be for deciding the coin was so unfair that you would walk away? That you'd call the police? That you'd try and publish the fact that you found an unfair coin in a scientific journal?* Hint: for the last one try thinking in terms of a \"p value\". If you don't know what that mean google \"hypothesis testing\".\n",
    "* *What if you were **sure** the coin was unfair before you started? (E.g. you saw the person doctoring it.) What prior would you choose then? What happens to the posterior in this case?*  This one may be best answered without any hitting of shift-return.....\n"
   ]
  },
  {
   "cell_type": "markdown",
   "metadata": {},
   "source": [
    "## Degree of belief intervals"
   ]
  },
  {
   "cell_type": "markdown",
   "metadata": {},
   "source": [
    "Now we are going to compute some Bayesian confidence intervals, aka DoB intervals, aka credibility intervals....\n",
    "You shoud go through this section once using the numbers provided, and then come back and run it again (or copy-paste the relevant lines) for other results from the widget. You can also employ priors other than those provided if you wish, but that takes a bit more work."
   ]
  },
  {
   "cell_type": "code",
   "execution_count": 75,
   "metadata": {},
   "outputs": [],
   "source": [
    "#Code added to RJF notebook by DP, June 6 & 7 2019"
   ]
  },
  {
   "cell_type": "markdown",
   "metadata": {},
   "source": [
    "First we paste code from the \"Playing with pdfs\" notebook:"
   ]
  },
  {
   "cell_type": "code",
   "execution_count": 38,
   "metadata": {},
   "outputs": [],
   "source": [
    "def dist_stuff(dist):\n",
    "    \"\"\"\n",
    "    Finds the median, mean, and 68%/95% credible intervals for the given \n",
    "    1-d distribution (which is an object from scipy.stats).  \n",
    "    \"\"\"\n",
    "    # For x = median, mean: return x and the value of the pdf at x as a list\n",
    "    median = [dist.median(), dist.pdf(dist.median())]  \n",
    "    mean = [dist.mean(), dist.pdf(dist.mean())]\n",
    "    # The left and right limits of the credibility interval are returned\n",
    "    cred68 = dist.interval(0.68)\n",
    "    cred95 = dist.interval(0.95)\n",
    "    return median, mean, cred68, cred95"
   ]
  },
  {
   "cell_type": "code",
   "execution_count": 42,
   "metadata": {},
   "outputs": [],
   "source": [
    "def dist_mode(dist, x):\n",
    "    \"\"\"\n",
    "    Return the mode (maximum) of the 1-d distribution for array x.\n",
    "    \"\"\"\n",
    "    x_max_index = dist.pdf(x).argmax()\n",
    "    # Return x of the maximum and the value of the pdf at that x \n",
    "    mode = [x[x_max_index], dist.pdf(x[x_max_index])]\n",
    "    return mode"
   ]
  },
  {
   "cell_type": "markdown",
   "metadata": {},
   "source": [
    "Then we use this to write an object that will give us back the mean, 68%, and 95% intervals for a uniform prior. "
   ]
  },
  {
   "cell_type": "code",
   "execution_count": 65,
   "metadata": {},
   "outputs": [],
   "source": [
    "def print_uniform_prior_measures(N,heads):\n",
    "    \"\"\"\n",
    "    Prints out the mean, and 68 and 95 CIs for a uniform prior. Note that this means alpha=beta=1.\n",
    "    \"\"\"\n",
    "    median, mean, cred68, cred95 = dist_stuff(stats.beta(1+heads,1+N-heads))\n",
    "    mode=dist_mode(stats.beta(1+heads,1+N-heads),x)\n",
    "    print('For a uniform prior, and',heads,'heads out of',N,'tosses:')\n",
    "    print ('Mean=',mean[0],'; Mode=',mode[0])\n",
    "    print ('68% DoB interval=',cred68)\n",
    "    print ('95% DoB interval=',cred95)\n",
    "    return                              "
   ]
  },
  {
   "cell_type": "markdown",
   "metadata": {},
   "source": [
    "Now we fill in the values for N and heads from running the widget. Which for me gave 3 heads out of 14 tosses. (Actualy, I thought it was broken because I only had 1 head from 10 tosses. How unlikely is that?)"
   ]
  },
  {
   "cell_type": "code",
   "execution_count": 76,
   "metadata": {},
   "outputs": [
    {
     "name": "stdout",
     "output_type": "stream",
     "text": [
      "For a uniform prior, and 3 heads out of 14 tosses:\n",
      "Mean= 0.25 ; Mode= 0.21333333333333335\n",
      "68% DoB interval= (0.14425583785301743, 0.356366196329608)\n",
      "95% DoB interval= (0.07787154629104362, 0.4808911338068531)\n"
     ]
    }
   ],
   "source": [
    "print_uniform_prior_measures(14,3)"
   ]
  },
  {
   "cell_type": "code",
   "execution_count": 78,
   "metadata": {},
   "outputs": [
    {
     "name": "stdout",
     "output_type": "stream",
     "text": [
      "Tthe actual value of p_H is 0.4\n"
     ]
    }
   ],
   "source": [
    "print('Tthe actual value of p_H is',prob_heads)"
   ]
  },
  {
   "cell_type": "markdown",
   "metadata": {},
   "source": [
    "So, at least for the data I generated, the 68% DoB for a uniform prior does _not_ contain the true value, but the 95% one does. Are you surprised by that? Should you be?"
   ]
  },
  {
   "cell_type": "code",
   "execution_count": null,
   "metadata": {},
   "outputs": [],
   "source": []
  },
  {
   "cell_type": "code",
   "execution_count": 60,
   "metadata": {},
   "outputs": [],
   "source": [
    "def print_frequentist_estimators(N,heads):\n",
    "    \"\"\"\n",
    "    Finds the mean, and 68 and 95 CIs for a uniform prior. Note that this means alpha_1=beta_1=1.\n",
    "    \"\"\"\n",
    "    mean=heads/N\n",
    "    sigma=np.sqrt(mean*(1-mean)/N)\n",
    "    print('For',heads,'heads out of',N,'tosses, the frequenist 1-sigma interval=(',mean-sigma,',',mean+sigma,')')\n",
    "    return"
   ]
  },
  {
   "cell_type": "code",
   "execution_count": 61,
   "metadata": {
    "scrolled": true
   },
   "outputs": [
    {
     "name": "stdout",
     "output_type": "stream",
     "text": [
      "For 3 heads out of 14 tosses, the frequenist 1-sigma interval=( 0.10462150377446593 , 0.3239499247969626 )\n"
     ]
    }
   ],
   "source": [
    "print_frequentist_estimators(14,3)"
   ]
  },
  {
   "cell_type": "markdown",
   "metadata": {},
   "source": [
    "Which Bayesian estimator is the frequentist mean closest to?"
   ]
  },
  {
   "cell_type": "code",
   "execution_count": null,
   "metadata": {},
   "outputs": [],
   "source": []
  },
  {
   "cell_type": "markdown",
   "metadata": {},
   "source": [
    "Is the frequentist 1$\\sigma$ interval the same as the Bayesian 68% DoB interval? If so, should they be? If not, why are they different?"
   ]
  },
  {
   "cell_type": "code",
   "execution_count": null,
   "metadata": {},
   "outputs": [],
   "source": []
  },
  {
   "cell_type": "markdown",
   "metadata": {},
   "source": [
    "Now we will also generate the summary statistics for the other priors. (What is coded is for the default values. After running through the exercise you can come back and try and change it; indeed, you should do that if you comparing to results where you altered the prior above.)"
   ]
  },
  {
   "cell_type": "code",
   "execution_count": 70,
   "metadata": {},
   "outputs": [],
   "source": [
    "def print_likely_fair_prior_measures(N,heads):\n",
    "    \"\"\"\n",
    "    Prints out the mean, and 68 and 95 CIs for the \"coin is likely fair\" prior. This means alpha=beta=30.\n",
    "    \"\"\"\n",
    "    median, mean, cred68, cred95 = dist_stuff(stats.beta(30+heads,30+N-heads))\n",
    "    mode=dist_mode(stats.beta(1+heads,1+N-heads),x)\n",
    "    print('For the trusting-person`s prior, and',heads,'heads out of',N,'tosses:')\n",
    "    print ('Mean=',mean[0],'; Mode=',mode[0])\n",
    "    print ('68% DoB interval=',cred68)\n",
    "    print ('95% DoB interval=',cred95)\n",
    "    return              "
   ]
  },
  {
   "cell_type": "code",
   "execution_count": 71,
   "metadata": {},
   "outputs": [
    {
     "name": "stdout",
     "output_type": "stream",
     "text": [
      "For the trusting-person`s prior, and 3 heads out of 14 tosses:\n",
      "Mean= 0.44594594594594594 ; Mode= 0.21333333333333335\n",
      "68% DoB interval= (0.3884869450739201, 0.5034020828127768)\n",
      "95% DoB interval= (0.33517078238841036, 0.5594901701300508)\n"
     ]
    }
   ],
   "source": [
    "print_likely_fair_prior_measures(14,3)"
   ]
  },
  {
   "cell_type": "code",
   "execution_count": 72,
   "metadata": {},
   "outputs": [],
   "source": [
    "def print_likely_unfair_prior_measures(N,heads):\n",
    "    \"\"\"\n",
    "    Prints out the mean, and 68 and 95 CIs for the \"coin is likely unfair\" prior. This means alpha=beta=0.2.\n",
    "    \"\"\"\n",
    "    median, mean, cred68, cred95 = dist_stuff(stats.beta(0.2+heads,0.2+N-heads))\n",
    "    mode=dist_mode(stats.beta(1+heads,1+N-heads),x)\n",
    "    print('For the nasty-suspicious-mind prior, and',heads,'heads out of',N,'tosses:')\n",
    "    print ('Mean=',mean[0],'; Mode=',mode[0])\n",
    "    print ('68% DoB interval=',cred68)\n",
    "    print ('95% DoB interval=',cred95)\n",
    "    return              "
   ]
  },
  {
   "cell_type": "code",
   "execution_count": 73,
   "metadata": {},
   "outputs": [
    {
     "name": "stdout",
     "output_type": "stream",
     "text": [
      "For the nasty-suspicious-mind prior, and 3 heads out of 14 tosses:\n",
      "Mean= 0.22222222222222227 ; Mode= 0.21333333333333335\n",
      "68% DoB interval= (0.11613671965756532, 0.329216102290416)\n",
      "95% DoB interval= (0.055996668849940444, 0.46066784065756616)\n"
     ]
    }
   ],
   "source": [
    "print_likely_unfair_prior_measures(14,3)"
   ]
  },
  {
   "cell_type": "markdown",
   "metadata": {},
   "source": [
    "So what is the best approach in this case? Objectivity? Trust? Suspicion?"
   ]
  },
  {
   "cell_type": "code",
   "execution_count": null,
   "metadata": {},
   "outputs": [],
   "source": []
  },
  {
   "cell_type": "markdown",
   "metadata": {},
   "source": [
    "Now having printed out the results for my particular coin-tossing experiment you should play with things and see what the different summary statistics give for other \"experimental runs\"."
   ]
  },
  {
   "cell_type": "code",
   "execution_count": null,
   "metadata": {},
   "outputs": [],
   "source": []
  }
 ],
 "metadata": {
  "kernelspec": {
   "display_name": "Python 3",
   "language": "python",
   "name": "python3"
  },
  "language_info": {
   "codemirror_mode": {
    "name": "ipython",
    "version": 3
   },
   "file_extension": ".py",
   "mimetype": "text/x-python",
   "name": "python",
   "nbconvert_exporter": "python",
   "pygments_lexer": "ipython3",
   "version": "3.7.2"
  }
 },
 "nbformat": 4,
 "nbformat_minor": 2
}
