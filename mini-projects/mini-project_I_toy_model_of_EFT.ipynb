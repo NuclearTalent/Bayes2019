{
 "cells": [
  {
   "cell_type": "markdown",
   "metadata": {},
   "source": [
    "# Mini-project I: Parameter estimation for a toy model of an EFT"
   ]
  },
  {
   "cell_type": "markdown",
   "metadata": {},
   "source": [
    "The overall project goal is to reproduce various results in a paper co-authored by Daniel and Dick (and others): [*Bayesian parameter estimation for effective field theories*](https://arxiv.org/abs/1511.03618).  It's a long paper, so don't try to read all of it!  (At least not now.)  We'll guide you to the relevant parts.\n",
    "\n",
    "The paper uses toy models for effective field theories, namely Taylor series of some specified functions, to present guidelines for parameter estimation. This will also be a check of whether you can follow (or give you practice on) Bayesian statistics discussions in the physics literature.\n",
    "\n",
    "You'll find summaries in section II that touch on topics we have discussed and will discuss.  The function\n",
    "$$\n",
    "g(x) = \\left(\\frac12 + \\tan\\left(\\frac{\\pi}{2}x\\right)\\right)^2\n",
    "$$\n",
    "represents the true, underlying theory.  It has a Taylor expansion\n",
    "$$\n",
    "g(x) = 0.25 + 1.57x + 2.47x^2 + 1.29 x^3 + \\cdots\n",
    "$$\n",
    "Our model for an EFT for this \"theory\" is\n",
    "$$\n",
    "g_{\\rm th}(x) \\equiv \\sum_{i=0}^k a_i x^i\n",
    "$$\n",
    "and your general task is to fit 1, 2, 3, ... of the constants $a_i$, and analyze the results.\n",
    "**Your primary goal is to reproduce and interpret Table III on page 12 of the arXiv preprint.  A secondary goal is to reproduce Figure 1 of the same paper.**  You should use the emcee sampler and corner to make plots.\n",
    "\n",
    "\n",
    "This a less-guided set of tasks than the ones we've done so far, which will have you put together ideas and tools we've discussed.  You'll work on the mini-project the first Thursday and Friday afternoons in the exercise session and we'll do a recap early next week.  There is nothing to hand in but we'll be happy to review what you come up with."
   ]
  },
  {
   "cell_type": "markdown",
   "metadata": {},
   "source": [
    "### Learning goals:\n",
    "* Apply and extend the Bayesian parameter estimation ideas and techniques from the course.\n",
    "* Explore the impact of control features:  dependence on how much data is used and how precise it is; apply an *informative* prior.\n",
    "* Learn about some diagnostics for Bayesian parameter estimation.\n",
    "* Try out sampling on a controlled problem."
   ]
  },
  {
   "cell_type": "markdown",
   "metadata": {},
   "source": [
    "### Suggestions for how to proceed:\n",
    "* Follow the lead of the notebooks [Intro notebook revisited [ipynb]](https://github.com/NuclearTalent/Bayes2019/blob/master/topics/bayesian-parameter-estimation/parameter_estimation_in_bayesTALENT_intro.ipynb) and [Fitting a straight line II [ipynb]](https://github.com/NuclearTalent/Bayes2019/blob/master/topics/why-bayes-is-better/parameter_estimation_fitting_straight_line_II.ipynb).\n",
    "* Define a function for the exact result, noting from the arXiv paper what type of noise is added and where the points are located (i.e., what values of $x$). \n",
    "* Define functions for the two choices of prior and for the likelihood.\n",
    "* Call emcee to sample the posteriors.\n",
    "* Use corner to create plots.  You can read the answers for the tables from the corner plots.\n",
    "* Don't try to do too much in your code at first; \n"
   ]
  },
  {
   "cell_type": "code",
   "execution_count": null,
   "metadata": {},
   "outputs": [],
   "source": []
  }
 ],
 "metadata": {
  "kernelspec": {
   "display_name": "Python [conda env:talent-env]",
   "language": "python",
   "name": "conda-env-talent-env-py"
  },
  "language_info": {
   "codemirror_mode": {
    "name": "ipython",
    "version": 3
   },
   "file_extension": ".py",
   "mimetype": "text/x-python",
   "name": "python",
   "nbconvert_exporter": "python",
   "pygments_lexer": "ipython3",
   "version": "3.7.3"
  }
 },
 "nbformat": 4,
 "nbformat_minor": 2
}
